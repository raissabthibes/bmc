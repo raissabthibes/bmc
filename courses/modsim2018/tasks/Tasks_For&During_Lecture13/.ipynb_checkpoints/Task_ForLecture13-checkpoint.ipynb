{
 "cells": [
  {
   "cell_type": "markdown",
   "metadata": {},
   "source": [
    "# Para a Lecture 13  \n",
    "### Modelar e Simular as propriedades da relação force-length-velocity de Thelen 2003  "
   ]
  },
  {
   "cell_type": "code",
   "execution_count": 1,
   "metadata": {},
   "outputs": [],
   "source": [
    "import numpy as np\n",
    "import matplotlib.pyplot as plt\n",
    "import math\n",
    "\n",
    "\n",
    "%matplotlib inline"
   ]
  },
  {
   "cell_type": "markdown",
   "metadata": {},
   "source": [
    "#### Lembretes:\n",
    "  \n",
    "$V^{M}$ é a velocidade da fibre muscular\n",
    "$M$ vem de muscular\n",
    "\n",
    "$L^{M}$ é o comprimento do **músculo**  \n",
    "\n",
    "$\\overline{F}\\,^{M}$ é força externa que age no músculo  \n",
    "\n",
    "No meu código, $FCE$ é o $F^{M}$ e se refere à força muscular ativa  \n",
    "\n",
    "$ f_{L}$ é a força internano movimento contrátil  \n",
    "$a \\cdot f_{L} = FLNorm $  é  \n",
    "$\\overline{F}\\,^{M} = FCENorm$  é   \n",
    "\n",
    "$F0$ era para a curva Força Comprimento  \n",
    "\n",
    "Estou tentando implementar as seguintes equações  \n",
    "\n",
    "$\\,\\,\\,\\,\\,\\,\\, V^{M} = \\big(0.25+0.75a\\big) \\, V^{M}_{max} \\, \\frac{\\overline{F}\\,^{M} - \\, af_{L}}{b}\\,\\,\\,\\,\\,\\,\\,\\,\\,\\,\\,$  $\\,\\,\\,\\,\\,\\,\\,\\,\\,\\,\\,(6)$\n",
    "\n",
    "\n",
    "$b = \\begin{cases} af_{L} + \\frac{\\overline{F}\\,^{M}}{A_{f}} ; & \\overline{F}\\,^{M}\\le af_{L} \\\\ \\frac{ \\big( 2+\\frac{2}{A_{f}} \\big) \\, \\cdot \\, \\big(af_{L}\\,\\overline{F}\\,^{M}_{len} \\, - \\,\\overline{F}\\,^{M}\\big)}{\\overline{F}\\,^{M}_{len} \\,\\, - \\,\\, 1 }; & \\overline{F}\\,^{M}\\gt af_{L} \\end{cases} $   $\\,\\,\\,\\,\\,\\,\\,\\,\\,\\,\\,(7)$\n",
    "\n",
    "A Eq. $(6)$ depende também do parâmetro $b$ da Eq. $(7)$ que depende de se a fibra está encurtando (primeiro caso) ou alongando (segundo caso).\n",
    "\n",
    "$\\overline{F}\\,^{M}_{len}$ é a máxima força muscular normalizada atingível quando seu comprimento está aumentando  \n",
    "\n",
    "$A_{f} \\, = \\, 0.25$\n"
   ]
  },
  {
   "cell_type": "markdown",
   "metadata": {},
   "source": [
    "### Functions that will be used"
   ]
  },
  {
   "cell_type": "code",
   "execution_count": 2,
   "metadata": {},
   "outputs": [],
   "source": [
    "def  computeTendonForce(LseeNorm, Lslack, Lce_o):\n",
    "    '''\n",
    "    Compute Tendon Force\n",
    "    \n",
    "    Inputs:\n",
    "        LseeNorm - Normalized Tendon  length\n",
    "        Lslack - slack length of the tendon (non-normalized)\n",
    "        Lce_o - Optimal length of the fiber\n",
    "    Output:\n",
    "        FtendonNorm - Normalized tendon force\n",
    "    '''\n",
    "    \n",
    "    Umax = .04\n",
    "    if LseeNorm < Lslack/Lce_o: \n",
    "        FTendonNorm = 0\n",
    "    else: \n",
    "        FTendonNorm = ((LseeNorm-Lslack/Lce_o)/(Umax*Lslack/Lce_o))**2\n",
    "        \n",
    "    return FTendonNorm\n"
   ]
  },
  {
   "cell_type": "code",
   "execution_count": 3,
   "metadata": {},
   "outputs": [],
   "source": [
    "def  computeParallelElementForce(LceNorm):\n",
    "    Umax = 1\n",
    "    if LceNorm < 1: \n",
    "        FkpeNorm = 0\n",
    "    else: \n",
    "        FkpeNorm = ((LceNorm-1)/(Umax))**2 \n",
    "        \n",
    "    return FkpeNorm"
   ]
  },
  {
   "cell_type": "code",
   "execution_count": 4,
   "metadata": {},
   "outputs": [],
   "source": [
    "def computeForceLengthCurve(LceNorm):\n",
    "    width = .63\n",
    "    FLNorm = max([0, (1-((LceNorm-1)/width)**2)])\n",
    "    return FLNorm"
   ]
  },
  {
   "cell_type": "markdown",
   "metadata": {},
   "source": [
    "def computeContractileElementDerivative(FLNorm, FCENorm, a, b):\n",
    "     #calculate CE velocity from Hill's equation\n",
    "    \n",
    "    if  FCENorm > FLNorm:\n",
    "        print('Error: cannot do eccentric contractions')\n",
    "    \n",
    "    LceNormdot = -b*(FLNorm-FCENorm)/(a+FCENorm) \n",
    "    \n",
    "    return LceNormdot"
   ]
  },
  {
   "cell_type": "code",
   "execution_count": 5,
   "metadata": {},
   "outputs": [],
   "source": [
    "def computeContractileElementForce(FtendonNorm, FkpeNorm, alfa):\n",
    "    FCENorm = FtendonNorm/np.cos(alfa) - FkpeNorm\n",
    "    return FCENorm"
   ]
  },
  {
   "cell_type": "code",
   "execution_count": 6,
   "metadata": {},
   "outputs": [],
   "source": [
    "def computeTendonLength(Lm, Lce_o, LceNorm, alfa):\n",
    "    LseeNorm = Lm/Lce_o - LceNorm * np.cos(alfa)\n",
    "    return LseeNorm"
   ]
  },
  {
   "cell_type": "code",
   "execution_count": 7,
   "metadata": {},
   "outputs": [],
   "source": [
    "def computeMuscleFiberVelocity(FCENorm, FLNorm, VMmax, a, b):\n",
    "    '''\n",
    "    Compute Muscle Fiber Velocity\n",
    "    \n",
    "    Inputs:\n",
    "        FCENorm - Normalized force of Contractile Element\n",
    "        FLNorm - Normalized relation of Force and Length of the contractile element\n",
    "        VMmax - maximum contraction velocity        \n",
    "        a - muscle activation    \n",
    "        b - parameter that depends on the length of muscle fiber\n",
    "    \n",
    "    Output:\n",
    "        Vm - muscle fiber velocity\n",
    "    '''\n",
    "    \n",
    "    afL = a*FLNorm\n",
    "    \n",
    "    Vm = (0.25 + 0.75 * a) * VMmax * ((FCENorm - afL) / b)\n",
    "    \n",
    "    return Vm"
   ]
  },
  {
   "cell_type": "code",
   "execution_count": 8,
   "metadata": {},
   "outputs": [],
   "source": [
    "def computeParameterb(FLNorm, FCENorm, Af, FlenNorm):\n",
    "    '''\n",
    "    Compute Parameter b\n",
    "        Inputs:\n",
    "            FLNorm - \n",
    "            FCENorm -\n",
    "            Af -\n",
    "            FlenNorm - \n",
    "        Output:\n",
    "            b - \n",
    "    '''\n",
    "    afL = a*FLNorm\n",
    "    \n",
    "    if FCENorm <= afL:\n",
    "        b = afL + FCENorm / Af\n",
    "    else:\n",
    "        b = ((2+2/Af) * (afL*FlenNorm - FCENorm)) / (FlenNorm - 1)\n",
    "            \n",
    "    return b"
   ]
  },
  {
   "cell_type": "code",
   "execution_count": 9,
   "metadata": {},
   "outputs": [],
   "source": [
    "def computeActivation(a, u, dt,tau_act=15e-3, tau_deact=50e-3):\n",
    "    '''\n",
    "    Compute Muscle Fiber Velocity,\n",
    "    \n",
    "    Inputs:\n",
    "        a - muscle activation    \n",
    "        tau_act - parameter that depends on the length of muscle fiber\n",
    "        tau_deact - parameter that depends on the length of muscle fiber\n",
    "    \n",
    "    Output:\n",
    "        Vm - muscle fiber velocity\n",
    "    '''\n",
    "    \n",
    "        \n",
    "    if u>a :\n",
    "        tau_a = tau_act * (0.5 + 1.5*a)\n",
    "    else:\n",
    "        tau_a = tau_deact * (0.5 + 1.5*a)\n",
    "    \n",
    "    dadt = (u - a) / tau_a\n",
    "    \n",
    "    a = a + dadt * dt\n",
    "    \n",
    "    return a"
   ]
  },
  {
   "cell_type": "markdown",
   "metadata": {},
   "source": [
    "### Signal of stimulation $u$\n",
    "#### Situation 1  \n",
    "$u = 1$, for t = 0 to 1  \n",
    "$u = 0.5$, for t = 1 to 3  \n",
    "$u = 0.01$, for t = 3 untill the end  \n",
    "#### Situation 2  \n",
    "$u$ as sinoid, of f = 1/2 Hz\n",
    "#### Situation 3\n",
    "$u = 0.01$, for t = 0 to 1  \n",
    "$u = 0.1$, for t = 1 to 3  \n",
    "$u = 0.01$, for t = 0 to 1 and for t = 3 untill the end"
   ]
  },
  {
   "cell_type": "code",
   "execution_count": 10,
   "metadata": {},
   "outputs": [],
   "source": [
    "# sit_u = 1 # Situation 1\n",
    "\n",
    "# sit_u = 2 # Situation 2\n",
    "\n",
    "# sit_u = 3 # Situation 3\n",
    "\n",
    "sit_u=2"
   ]
  },
  {
   "cell_type": "markdown",
   "metadata": {},
   "source": [
    "Now the muscle has an angle, taking the penation of the muscle into account  \n",
    "$L_{T} = L_{MT} - L_{M}\\,cos(\\alpha)$"
   ]
  },
  {
   "cell_type": "markdown",
   "metadata": {},
   "source": [
    "## Simulation"
   ]
  },
  {
   "cell_type": "markdown",
   "metadata": {},
   "source": [
    "* Muscle Proporties"
   ]
  },
  {
   "cell_type": "code",
   "execution_count": 11,
   "metadata": {},
   "outputs": [],
   "source": [
    "Lslack = .223\n",
    "Lce_o = .093 #optmal length\n",
    "Fmax = 3000\n",
    "FlenNorm = 1.4 # parameter of the paper for young\n",
    "LceNorm = .087/Lce_o\n",
    "\n",
    "VMmax = 10 # for young \n",
    "\n",
    "Af = 0.25 # according to Thelen(2003) paper\n",
    "\n",
    "tau_act = 15e-3 # for young\n",
    "tau_deact = 50e-3"
   ]
  },
  {
   "cell_type": "markdown",
   "metadata": {},
   "source": [
    "* Initial Condition"
   ]
  },
  {
   "cell_type": "code",
   "execution_count": 12,
   "metadata": {},
   "outputs": [],
   "source": [
    "LceNorm = .087/Lce_o\n",
    "t0 = 0\n",
    "tf = 4.99\n",
    "h = 1e-3 # dt\n",
    "dt = h"
   ]
  },
  {
   "cell_type": "markdown",
   "metadata": {},
   "source": [
    "* Initializations"
   ]
  },
  {
   "cell_type": "code",
   "execution_count": 13,
   "metadata": {},
   "outputs": [],
   "source": [
    "a = 0.01\n",
    "u = 1\n",
    "\n",
    "t = np.arange(t0,tf,h)\n",
    "\n",
    "F = np.empty(t.shape)\n",
    "\n",
    "Fkpe = np.empty(t.shape)\n",
    "\n",
    "fiberLength = np.empty(t.shape)\n",
    "\n",
    "tendonLength = np.empty(t.shape)\n",
    "\n",
    "Vm = np.empty(t.shape)\n",
    "\n",
    "Activation = np.empty(t.shape)\n",
    "\n",
    "U = np.empty(t.shape)"
   ]
  },
  {
   "cell_type": "markdown",
   "metadata": {},
   "source": [
    "* Angle of penation"
   ]
  },
  {
   "cell_type": "code",
   "execution_count": 21,
   "metadata": {},
   "outputs": [],
   "source": [
    "angulo = 90\n",
    "alfa = angulo * np.pi/360"
   ]
  },
  {
   "cell_type": "markdown",
   "metadata": {},
   "source": [
    "### Euler Simulation"
   ]
  },
  {
   "cell_type": "code",
   "execution_count": 15,
   "metadata": {},
   "outputs": [],
   "source": [
    "for i in range (len(t)):\n",
    "    \n",
    "    if sit_u == 1 : # SITUATION 1\n",
    "        if t[i]<=1:\n",
    "            u = 1\n",
    "        elif t[i]>1 and t[i]<=3:\n",
    "            u = 0.5\n",
    "        elif t[i]>3:\n",
    "            u = 0.01\n",
    "            \n",
    "    elif sit_u == 2:  # SITUATION 2 \n",
    "        f = 1/2 # [Hz]\n",
    "        u = 0.7 + 0.2*np.sin(2*np.pi*f*t[i])\n",
    "    \n",
    "    elif sit_u == 3: # SITUATION 3\n",
    "        if t[i]<=1:\n",
    "            u = 0.01\n",
    "        elif t[i]>1 and t[i]<=3:\n",
    "            u = 1\n",
    "        elif t[i]>3:\n",
    "            u = 0.01\n",
    "    \n",
    "    #ramp\n",
    "    if t[i]<=1:\n",
    "        Lm = 0.31\n",
    "    elif t[i]>1 and t[i]<2:\n",
    "        Lm = .31 - .04*(t[i]-1)\n",
    "        \n",
    "        \n",
    "    ########################################################   \n",
    "    LseeNorm = computeTendonLength(Lm, Lce_o, LceNorm, alfa)\n",
    "    \n",
    "    FTendonNorm = computeTendonForce(LseeNorm, Lslack, Lce_o)\n",
    "        \n",
    "    FkpeNorm = computeParallelElementForce(LceNorm)\n",
    "      \n",
    "    FLNorm = computeForceLengthCurve(LceNorm)    \n",
    "    \n",
    "    FCENorm = computeContractileElementForce(FTendonNorm, FkpeNorm, alfa)\n",
    "    \n",
    "    a = computeActivation(a, u, dt)\n",
    "    \n",
    "    b = computeParameterb(FLNorm, FCENorm, Af, FlenNorm) # Implemented\n",
    "    \n",
    "    LceNormdot = computeMuscleFiberVelocity(FCENorm, FLNorm, VMmax, a, b) # Implemented\n",
    "    \n",
    "    LceNorm = LceNorm + h*LceNormdot    \n",
    "    #########################################################################\n",
    "    \n",
    "    F[i] = FTendonNorm * Fmax\n",
    "    fiberLength[i] = LceNorm * Lce_o\n",
    "    tendonLength[i] = LseeNorm * Lce_o\n",
    "    Vm[i] = LceNormdot\n",
    "    Activation[i] = a\n",
    "    U[i] = u"
   ]
  },
  {
   "cell_type": "code",
   "execution_count": 16,
   "metadata": {},
   "outputs": [
    {
     "data": {
      "image/png": "[encoded data removed]",
      "text/plain": [
       "<Figure size 1080x360 with 3 Axes>"
      ]
     },
     "metadata": {},
     "output_type": "display_data"
    }
   ],
   "source": [
    "fig, ax = plt.subplots(1, 3, figsize=(15,5), sharex=True, sharey=True)\n",
    "\n",
    "ax[0].plot(t, fiberLength, label='Fiber')\n",
    "ax[0].set_title('Fiber')\n",
    "ax[0].grid()\n",
    "ax[1].plot(t, tendonLength, label='Tendon')\n",
    "ax[1].set_title('Tendon')\n",
    "ax[1].grid()\n",
    "plt.xlabel('time [s]')\n",
    "ax[2].plot(t, fiberLength+tendonLength , label='Fiber+Tendon')\n",
    "ax[2].set_title('Fiber + Tendon')\n",
    "ax[2].grid()\n",
    "plt.tight_layout()"
   ]
  },
  {
   "cell_type": "code",
   "execution_count": 17,
   "metadata": {},
   "outputs": [
    {
     "data": {
      "text/plain": [
       "Text(0,0.5,'u-values during the simulation')"
      ]
     },
     "execution_count": 17,
     "metadata": {},
     "output_type": "execute_result"
    },
    {
     "data": {
      "text/plain": [
       "<Figure size 432x288 with 0 Axes>"
      ]
     },
     "metadata": {},
     "output_type": "display_data"
    },
    {
     "data": {
      "image/png": "[encoded data removed]",
      "text/plain": [
       "<Figure size 432x432 with 1 Axes>"
      ]
     },
     "metadata": {},
     "output_type": "display_data"
    }
   ],
   "source": [
    "plt.figure()\n",
    "fig, ax = plt.subplots(1,1, figsize = (6,6),sharex=True)\n",
    "\n",
    "ax.plot(t,U,c='red')\n",
    "ax.set_title('Input to the muscle')\n",
    "plt.grid()\n",
    "plt.xlabel('time [s]')\n",
    "plt.ylabel('u-values during the simulation')"
   ]
  },
  {
   "cell_type": "code",
   "execution_count": 18,
   "metadata": {},
   "outputs": [
    {
     "data": {
      "text/plain": [
       "Text(0,0.5,'a-values during the simulation')"
      ]
     },
     "execution_count": 18,
     "metadata": {},
     "output_type": "execute_result"
    },
    {
     "data": {
      "text/plain": [
       "<Figure size 432x288 with 0 Axes>"
      ]
     },
     "metadata": {},
     "output_type": "display_data"
    },
    {
     "data": {
      "image/png": "[encoded data removed]",
      "text/plain": [
       "<Figure size 432x432 with 1 Axes>"
      ]
     },
     "metadata": {},
     "output_type": "display_data"
    }
   ],
   "source": [
    "plt.figure()\n",
    "fig, ax = plt.subplots(1,1, figsize = (6,6),sharex=True)\n",
    "\n",
    "ax.plot(t,Activation,c='red')\n",
    "ax.set_title('Values of a during the simulation')\n",
    "plt.grid()\n",
    "plt.xlabel('time [s]')\n",
    "plt.ylabel('a-values during the simulation')"
   ]
  },
  {
   "cell_type": "code",
   "execution_count": 19,
   "metadata": {},
   "outputs": [
    {
     "data": {
      "text/plain": [
       "Text(35.75,0.5,'Force [N]')"
      ]
     },
     "execution_count": 19,
     "metadata": {},
     "output_type": "execute_result"
    },
    {
     "data": {
      "image/png": "[encoded data removed]",
      "text/plain": [
       "<Figure size 576x360 with 1 Axes>"
      ]
     },
     "metadata": {},
     "output_type": "display_data"
    }
   ],
   "source": [
    "fig, ax = plt.subplots(1, 1, figsize=(8,5), sharex=True)\n",
    "\n",
    "ax.plot(t, F)\n",
    "ax.set_title('Force')\n",
    "ax.grid()\n",
    "\n",
    "plt.tight_layout()\n",
    "\n",
    "plt.xlabel('time [s]')\n",
    "plt.ylabel('Force [N]')"
   ]
  }
 ],
 "metadata": {
  "kernelspec": {
   "display_name": "Python 3",
   "language": "python",
   "name": "python3"
  },
  "language_info": {
   "codemirror_mode": {
    "name": "ipython",
    "version": 3
   },
   "file_extension": ".py",
   "mimetype": "text/x-python",
   "name": "python",
   "nbconvert_exporter": "python",
   "pygments_lexer": "ipython3",
   "version": "3.6.5"
  }
 },
 "nbformat": 4,
 "nbformat_minor": 2
}
