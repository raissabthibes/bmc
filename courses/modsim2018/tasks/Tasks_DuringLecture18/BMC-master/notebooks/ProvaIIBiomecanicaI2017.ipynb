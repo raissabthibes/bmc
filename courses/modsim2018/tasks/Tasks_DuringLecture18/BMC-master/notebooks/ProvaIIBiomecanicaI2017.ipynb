{
 "cells": [
  {
   "cell_type": "markdown",
   "metadata": {},
   "source": [
    "# Gabarito da prova II de Biomecânica I - 2017\n",
    "\n",
    "> http://demotu.org/ensino/biomecanica-i/\n",
    "\n",
    "As soluções das questões das provas são apresentadas em Python. "
   ]
  },
  {
   "cell_type": "code",
   "execution_count": 1,
   "metadata": {
    "ExecuteTime": {
     "end_time": "2017-12-19T02:46:00.335380Z",
     "start_time": "2017-12-19T02:46:00.329376Z"
    }
   },
   "outputs": [],
   "source": [
    "from sympy import Symbol, symbols, Matrix,latex\n",
    "from sympy import cos, sin\n",
    "from sympy.physics.mechanics import dynamicsymbols, init_vprinting\n",
    "from IPython.display import display, Math\n",
    "init_vprinting()\n",
    "import numpy as np\n",
    "t = Symbol('t')\n",
    "l1, l2 = symbols('ell_1 ell_2', positive=True)\n",
    "alpha1, alpha2 = dynamicsymbols('alpha1 alpha2')"
   ]
  },
  {
   "cell_type": "markdown",
   "metadata": {},
   "source": [
    "## Diurno"
   ]
  },
  {
   "cell_type": "markdown",
   "metadata": {},
   "source": [
    "**1** Considere as seguintes posições de marcas colocadas sobre uma coxa mensuradas por um sistema de captura do movimento: maléolo lateral (ml = [2.92, 10.10, 18.85]), maléolo medial (mm = [2.71, 10.22, 26.52]), cabeça da fíbula (fib = [5.05, 41.90, 15.41]), e côndilo medial da tíbia (tib = [8.29, 41.88, 26.52]). Estas posições estão na ordem x, y, z e são descritas no sistema de coordenadas do laboratório onde x aponta para a frente do sujeito, y aponta para cima e z aponta para o lado. Os centros articulares do tornozelo e joelho estão localizados respectivamente nos centros geométricos entre as marcas ml e mm e entre as marcas fib e tib. Um sistema de coordenadas anatômico para a perna pode ser definido como um eixo quase vertical apontando para cima e passando pelos centros articulares do tornozelo e joelho; outro eixo quase anteroposterior como o produto vetorial do eixo quase vertical e um vetor na direção médio-lateral passando por mm e ml; e o último eixo como o produto vetorial dos dois eixos anteriores, e a origem no centro articular do tornozelo.\n",
    "\n",
    "a. [1,0] Calcule o sistema de coordenadas anatômico para a perna como descrito acima.\n",
    "\n",
    "b. [1,0]  A partir do sistema de coordenadas, encontre a matriz de rotação que leva da coordenada local para a global e a matriz de rotação que leva da coordenada global para a local.\n",
    "\n",
    "c. [2,0] Encontre os ângulos de Euler , considerando que a ordem de rotação foi feita em torno dos eixos do sistema de referência global YZX, nesta ordem. A matriz de rotação nesta sequência de rotação é dada abaixo:"
   ]
  },
  {
   "cell_type": "code",
   "execution_count": 30,
   "metadata": {},
   "outputs": [
    {
     "name": "stdout",
     "output_type": "stream",
     "text": [
      "Origem: \n",
      "O = [  2.815  10.16   22.685]\n",
      "Versores: \n",
      "e1 = [ 0.12043275  0.99126617 -0.05373394] \n",
      "e2 = [ 0.99246903 -0.11900497  0.02903508] \n",
      "e3 = [-0.02238689  0.05682604  0.99813307]\n"
     ]
    }
   ],
   "source": [
    "ml = np.array([2.92, 10.10, 18.85])\n",
    "mm = np.array([2.71, 10.22, 26.52])\n",
    "fib = np.array([5.05, 41.90, 15.41])\n",
    "tib = np.array([8.29, 41.88, 26.52])\n",
    "\n",
    "tornoz = (ml + mm)/2\n",
    "joelho = (fib + tib)/2\n",
    "\n",
    "v1 = joelho - tornoz        # first axis\n",
    "v2 = np.cross(v1, mm - ml)  # second axis\n",
    "v3 = np.cross(v2, v1)       # third axis\n",
    "\n",
    "# Vector normalization\n",
    "e1 = v1/np.linalg.norm(v1)\n",
    "e2 = v2/np.linalg.norm(v2)\n",
    "e3 = v3/np.linalg.norm(v3)\n",
    "\n",
    "print('Origem:', '\\nO =', tornoz)\n",
    "print('Versores:', '\\ne1 =', e1, '\\ne2 =', e2, '\\ne3 =', e3)"
   ]
  },
  {
   "cell_type": "code",
   "execution_count": 8,
   "metadata": {},
   "outputs": [
    {
     "name": "stdout",
     "output_type": "stream",
     "text": [
      "Rlg = [[ 0.12043275  0.99126617 -0.05373394]\n",
      " [ 0.99246903 -0.11900497  0.02903508]\n",
      " [-0.02238689  0.05682604  0.99813307]]\n",
      "\n",
      "Rgl = [[ 0.12043275  0.99246903 -0.02238689]\n",
      " [ 0.99126617 -0.11900497  0.05682604]\n",
      " [-0.05373394  0.02903508  0.99813307]]\n"
     ]
    }
   ],
   "source": [
    "Rlg = np.array([e1,e2,e3])\n",
    "Rgl = Rlg.T\n",
    "print('Rlg = ' + str(Rlg))\n",
    "print('\\nRgl = ' + str(Rgl))"
   ]
  },
  {
   "cell_type": "markdown",
   "metadata": {},
   "source": [
    "$\\alpha = \\arctan\\left(\\frac{Rgl[2,1]}{Rgl[1,1]}\\right)$\n",
    "\n",
    "$\\beta = \\arctan\\left(\\frac{Rgl[0,2]}{Rgl[0,0]}\\right)$\n",
    "\n",
    "$\\gamma = \\arctan\\left(\\frac{-Rgl[0,1]}{\\sqrt{(Rgl[1,1]^2+Rgl[2,1]^2)}}\\right)$"
   ]
  },
  {
   "cell_type": "code",
   "execution_count": 40,
   "metadata": {},
   "outputs": [
    {
     "name": "stdout",
     "output_type": "stream",
     "text": [
      "alpha = 166.288730743 graus\n",
      "beta = -10.5303538359 graus\n",
      "gamma = -82.9638360669 graus\n"
     ]
    }
   ],
   "source": [
    "alpha = np.arctan2(Rgl[2,1],Rgl[1,1])*180/np.pi\n",
    "beta = np.arctan2(Rgl[0,2],Rgl[0,0])*180/np.pi\n",
    "gamma = np.arctan2(-Rgl[0,1],np.sqrt(Rgl[1,1]**2+Rgl[2,1]**2))*180/np.pi\n",
    "\n",
    "print('alpha = ' + str(alpha) + ' graus')\n",
    "print('beta = ' + str(beta) + ' graus')\n",
    "print('gamma = ' + str(gamma) + ' graus')"
   ]
  },
  {
   "cell_type": "markdown",
   "metadata": {},
   "source": [
    "**2** (3 pontos) Uma pessoa segura com a mão uma extremidade de um bastão com comprimento . Tanto a mão da pessoa quanto o bastão se movem no plano paralelo ao solo.  A mão da pessoa segue a seguinte trajetória ao longo do tempo: , medida em relação a um ponto fixo. A velocidade angular do bastão  durante o movimento foi de . A posição inicial da extremidade B do bastão que não está sendo segurada pela mão da pessoa é .\n",
    "a. [0,5] Calcule a velocidade da mão da pessoa.\n",
    "\n",
    "b. [0,5] Calcule o vetor posição do ponto B em relação à mão da pessoa no instante inicial.\n",
    "\n",
    "c. [0,5] Calcule o vetor posição do ponto B em relação à mão da pessoa ao longo da trajetória.\n",
    "\n",
    "d. [1,0] Calcule a velocidade do ponto B do bastão ao longo do tempo.\n",
    "\n",
    "e. [0,5] Calcule a aceleração do ponto B do bastão ao longo do tempo."
   ]
  },
  {
   "cell_type": "markdown",
   "metadata": {},
   "source": [
    "Velocidade da mão:\n",
    "\n",
    "$\\vec{v}_M = 0,3\\hat{i}+0,1\\hat{j} $\n",
    "\n",
    "Posição do ponto B no instante inicial:\n",
    "\n",
    "$\\vec{r_{B/M}}(0) = \\vec{r_{B}}(0) - \\vec{r_{M}}(0) = 6\\hat{i}+6\\hat{j} - 4\\hat{i} - 6\\hat{j} = 2\\hat{i}$\n",
    "\n",
    "Posição do ponto B:\n",
    "\n",
    "$\\vec{r_{B/M}} = l\\cos(\\omega t)\\hat{i} + l\\sin(\\omega t) \\hat{j} = 2\\cos(3t)\\hat{i} + 2\\sin(3t) \\hat{j} $\n",
    "\n",
    "Velocidade do ponto B:\n",
    "\n",
    "$\\vec{v_{B}} = \\vec{v_{M}} + \\vec{\\omega}\\times\\vec{r_{B/M}} = 0,3\\hat{i}+0,1\\hat{j} +  3\\hat{k}\\times(2\\cos(3t)\\hat{i} + 2\\sin(3t) \\hat{j})=$\n",
    "$=0,3\\hat{i}+0,1\\hat{j} - 6\\sin(3t)\\hat{i}+6\\cos(3t)\\hat{j} = (0,3- 6\\sin(3t))\\hat{i}+(0,1 +6\\cos(3t))\\hat{j}$\n",
    "\n",
    "Aceleração do ponto B:\n",
    "\n",
    "$\\vec{a_{B}} = \\frac{d\\vec{v_{B}}}{dt} = -18\\cos(3t)\\hat{i}-18\\sin(3t)\\hat{j}$\n"
   ]
  },
  {
   "cell_type": "markdown",
   "metadata": {
    "ExecuteTime": {
     "end_time": "2017-12-19T02:47:48.678675Z",
     "start_time": "2017-12-19T02:47:48.673672Z"
    }
   },
   "source": [
    "<figure><img src='./../images/prova2dfig3.png' width=\"150\" style=\"float:right;margin: 0px 50px;\"/></figure>\n",
    "\n",
    "**3** Considere a cadeia cinemática representada ao lado. Calcule a expressão para:  \n",
    "a) (1,0) A posição do ponto P em termos dos ângulos articulares.  \n",
    "b) (1,0) O Jacobiano para esta cadeia cinemática.  \n",
    "c) (1,0) Velocidade linear do ponto P em termos dos ângulos articulares.  "
   ]
  },
  {
   "cell_type": "markdown",
   "metadata": {},
   "source": [
    "A posição do ponto P em termos dos ângulos articulares:"
   ]
  },
  {
   "cell_type": "code",
   "execution_count": 2,
   "metadata": {
    "ExecuteTime": {
     "end_time": "2017-12-19T02:58:23.220167Z",
     "start_time": "2017-12-19T02:58:23.188144Z"
    }
   },
   "outputs": [
    {
     "data": {
      "image/png": "[encoded data removed]",
      "text/latex": [
       "$$\\left[\\begin{matrix}\\ell_{1} \\operatorname{sin}\\left(\\alpha_{1}\\right) - \\ell_{2} \\operatorname{sin}\\left(\\alpha_{2}\\right) + 1\\\\\\ell_{1} \\operatorname{cos}\\left(\\alpha_{1}\\right) + \\ell_{2} \\operatorname{cos}\\left(\\alpha_{2}\\right) + 1\\end{matrix}\\right]$$"
      ],
      "text/plain": [
       "⎡ell₁⋅sin(α₁) - ell₂⋅sin(α₂) + 1⎤\n",
       "⎢                               ⎥\n",
       "⎣ell₁⋅cos(α₁) + ell₂⋅cos(α₂) + 1⎦"
      ]
     },
     "execution_count": 2,
     "metadata": {},
     "output_type": "execute_result"
    }
   ],
   "source": [
    "rp = Matrix([1 + l1*sin(alpha1) - l2*sin(alpha2),\n",
    "             1 + l1*cos(alpha1) + l2*cos(alpha2)])\n",
    "rp"
   ]
  },
  {
   "cell_type": "markdown",
   "metadata": {},
   "source": [
    "Onde $\\alpha_1$ e $\\alpha_2$ são considerados ângulos positivos como indicado na figura."
   ]
  },
  {
   "cell_type": "markdown",
   "metadata": {},
   "source": [
    "O Jacobiano para esta cadeia cinemática:"
   ]
  },
  {
   "cell_type": "code",
   "execution_count": 3,
   "metadata": {
    "ExecuteTime": {
     "end_time": "2017-12-19T02:58:25.982915Z",
     "start_time": "2017-12-19T02:58:25.948891Z"
    }
   },
   "outputs": [
    {
     "data": {
      "image/png": "[encoded data removed]",
      "text/latex": [
       "$$\\left[\\begin{matrix}\\ell_{1} \\operatorname{cos}\\left(\\alpha_{1}\\right) & - \\ell_{2} \\operatorname{cos}\\left(\\alpha_{2}\\right)\\\\- \\ell_{1} \\operatorname{sin}\\left(\\alpha_{1}\\right) & - \\ell_{2} \\operatorname{sin}\\left(\\alpha_{2}\\right)\\end{matrix}\\right]$$"
      ],
      "text/plain": [
       "⎡ell₁⋅cos(α₁)   -ell₂⋅cos(α₂)⎤\n",
       "⎢                            ⎥\n",
       "⎣-ell₁⋅sin(α₁)  -ell₂⋅sin(α₂)⎦"
      ]
     },
     "execution_count": 3,
     "metadata": {},
     "output_type": "execute_result"
    }
   ],
   "source": [
    "J = rp.jacobian([alpha1, alpha2])\n",
    "J"
   ]
  },
  {
   "cell_type": "markdown",
   "metadata": {},
   "source": [
    "Velocidade linear do ponto P em termos dos ângulos articulares:"
   ]
  },
  {
   "cell_type": "code",
   "execution_count": 4,
   "metadata": {
    "ExecuteTime": {
     "end_time": "2017-12-19T02:58:28.035951Z",
     "start_time": "2017-12-19T02:58:27.995922Z"
    }
   },
   "outputs": [
    {
     "data": {
      "image/png": "[encoded data removed]",
      "text/latex": [
       "$$\\left[\\begin{matrix}\\ell_{1} \\operatorname{cos}\\left(\\alpha_{1}\\right) \\dot{\\alpha}_{1} - \\ell_{2} \\operatorname{cos}\\left(\\alpha_{2}\\right) \\dot{\\alpha}_{2}\\\\- \\ell_{1} \\operatorname{sin}\\left(\\alpha_{1}\\right) \\dot{\\alpha}_{1} - \\ell_{2} \\operatorname{sin}\\left(\\alpha_{2}\\right) \\dot{\\alpha}_{2}\\end{matrix}\\right]$$"
      ],
      "text/plain": [
       "⎡ell₁⋅cos(α₁)⋅α₁̇ - ell₂⋅cos(α₂)⋅α₂̇ ⎤\n",
       "⎢                                    ⎥\n",
       "⎣-ell₁⋅sin(α₁)⋅α₁̇ - ell₂⋅sin(α₂)⋅α₂̇⎦"
      ]
     },
     "execution_count": 4,
     "metadata": {},
     "output_type": "execute_result"
    }
   ],
   "source": [
    "w = Matrix([alpha1, alpha2]).diff(t)\n",
    "vel = J*w\n",
    "vel"
   ]
  },
  {
   "cell_type": "markdown",
   "metadata": {},
   "source": [
    "## Noturno"
   ]
  },
  {
   "cell_type": "markdown",
   "metadata": {},
   "source": [
    "**1** (4 pontos) Considere as seguintes posições de marcas colocadas sobre uma coxa mensuradas por um sistema de captura do movimento: epicôndilo lateral (el = [2.92, 10.10, 18.85]) e epicôndilo medial (em = [2.71, 10.22, 26.52]). Além disso, foi estimada a posição da cabeça do trocanter deste fêmur (tr = [5.05, 41.90, 15.41]). Estas posições estão na ordem x, y, z e são descritas no sistema de coordenadas do laboratório onde x aponta para a frente do sujeito, y aponta para cima e z aponta para o lado. O centro articular do joelho está localizado no centro geométrico entre as marcas el e em o centro articular do quadril coincide com a cabeça do trocanter. Um sistema de coordenadas anatômico para a coxa pode ser definido como um eixo quase vertical apontando para cima e passando pelos centros articulares do joelho e do quadril; outro eixo quase anteroposterior apontando para frente como o produto vetorial do eixo quase vertical e um vetor na direção médio-lateral passando por el e em; e o último eixo como o produto vetorial dos dois eixos anteriores, e a origem no centro articular do joelho.\n",
    "\n",
    "a. [1,0] Calcule o sistema de coordenadas anatômico para a coxa como descrito acima.\n",
    "\n",
    "b. [1,0]  A partir do sistema de coordenadas, encontre a matriz de rotação que leva da coordenada local para a global e a matriz de rotação que leva da coordenada global para a local.\n",
    "\n",
    "c. [2,0]  Encontre os ângulos de Euler , considerando que a ordem de rotação foi feita em torno dos eixos do sistema de referência global ZXY, nesta ordem. A matriz de rotação nesta sequência de rotação é dada abaixo:"
   ]
  },
  {
   "cell_type": "code",
   "execution_count": 42,
   "metadata": {},
   "outputs": [
    {
     "name": "stdout",
     "output_type": "stream",
     "text": [
      "Origem: \n",
      "O = [  2.815  10.16   22.685]\n",
      "Versores: \n",
      "e1 = [ 0.06847494  0.97243612 -0.22288824] \n",
      "e2 = [ 0.99756392 -0.06375548  0.02831018] \n",
      "e3 = [-0.0133195   0.22428381  0.97443284]\n"
     ]
    }
   ],
   "source": [
    "el = np.array([2.92, 10.10, 18.85])\n",
    "em = np.array([2.71, 10.22, 26.52])\n",
    "tr = np.array([5.05, 41.90, 15.41])\n",
    "\n",
    "quadri = tr\n",
    "joelho = (el + em)/2\n",
    "\n",
    "v1 = quadri - joelho        # first axis\n",
    "v2 = np.cross(v1, em - el)  # second axis\n",
    "v3 = np.cross(v2, v1)       # third axis\n",
    "\n",
    "# Vector normalization\n",
    "e1 = v1/np.linalg.norm(v1)\n",
    "e2 = v2/np.linalg.norm(v2)\n",
    "e3 = v3/np.linalg.norm(v3)\n",
    "\n",
    "print('Origem:', '\\nO =', joelho)\n",
    "print('Versores:', '\\ne1 =', e1, '\\ne2 =', e2, '\\ne3 =', e3)"
   ]
  },
  {
   "cell_type": "code",
   "execution_count": 43,
   "metadata": {},
   "outputs": [
    {
     "name": "stdout",
     "output_type": "stream",
     "text": [
      "Rlg = [[ 0.06847494  0.97243612 -0.22288824]\n",
      " [ 0.99756392 -0.06375548  0.02831018]\n",
      " [-0.0133195   0.22428381  0.97443284]]\n",
      "\n",
      "Rgl = [[ 0.06847494  0.99756392 -0.0133195 ]\n",
      " [ 0.97243612 -0.06375548  0.22428381]\n",
      " [-0.22288824  0.02831018  0.97443284]]\n"
     ]
    }
   ],
   "source": [
    "Rlg = np.array([e1,e2,e3])\n",
    "Rgl = Rlg.T\n",
    "print('Rlg = ' + str(Rlg))\n",
    "print('\\nRgl = ' + str(Rgl))"
   ]
  },
  {
   "cell_type": "markdown",
   "metadata": {},
   "source": [
    "$\\alpha = \\arctan\\left(\\frac{-Rgl[1,2]}{\\sqrt{(Rgl[0,2]^2+Rgl[2,2]^2)}}\\right)$\n",
    "\n",
    "$\\beta = \\arctan\\left(\\frac{Rgl[0,2]}{Rgl[2,2]}\\right)$\n",
    "\n",
    "$\\gamma = \\arctan\\left(\\frac{Rgl[1,0]}{Rgl[1,1]}\\right)$"
   ]
  },
  {
   "cell_type": "code",
   "execution_count": 47,
   "metadata": {},
   "outputs": [
    {
     "name": "stdout",
     "output_type": "stream",
     "text": [
      "alpha = -12.9607669696 graus\n",
      "beta = -0.783125663366 graus\n",
      "gamma = 93.7510938527 graus\n"
     ]
    }
   ],
   "source": [
    "alpha = np.arctan2(-Rgl[1,2],np.sqrt(Rgl[0,2]**2+Rgl[2,2]**2))*180/np.pi\n",
    "beta = np.arctan2(Rgl[0,2],Rgl[2,2])*180/np.pi\n",
    "gamma = np.arctan2(Rgl[1,0],Rgl[1,1])*180/np.pi\n",
    "\n",
    "print('alpha = ' + str(alpha) + ' graus')\n",
    "print('beta = ' + str(beta) + ' graus')\n",
    "print('gamma = ' + str(gamma) + ' graus')"
   ]
  },
  {
   "cell_type": "markdown",
   "metadata": {},
   "source": [
    "**2** (3 pontos) Uma pessoa segura com a mão uma extremidade de um bastão com comprimento . Tanto a mão da pessoa quanto o bastão se movem no plano paralelo ao solo.  A mão da pessoa segue a seguinte trajetória ao longo do tempo: , medida em relação a um ponto fixo. A velocidade angular do bastão  durante o movimento foi de .  A posição inicial da extremidade B do bastão que não está sendo segurada pela mão da pessoa é  .\n",
    "\n",
    "a. [0,5] Calcule a velocidade da mão da pessoa.\n",
    "\n",
    "b. [0,5] Calcule o vetor posição do ponto B em relação à mão da pessoa no instante inicial.\n",
    "\n",
    "c. [0,5] Calcule o vetor posição do ponto B em relação à mão da pessoa ao longo da trajetória.\n",
    "\n",
    "d. [1,0] Calcule a velocidade do ponto B do bastão ao longo do tempo.\n",
    "\n",
    "e. [0,5] Calcule a aceleração do ponto B do bastão ao longo do tempo."
   ]
  },
  {
   "cell_type": "markdown",
   "metadata": {},
   "source": [
    "Velocidade da mão:\n",
    "\n",
    "$\\vec{v}_M = 0,2\\hat{i}+0,5\\hat{j} $\n",
    "\n",
    "Posição do ponto B no instante inicial:\n",
    "\n",
    "$\\vec{r_{B/M}}(0) = \\vec{r_{B}}(0) - \\vec{r_{M}}(0) = 6\\hat{i}+10\\hat{j} - 5\\hat{i} - 10\\hat{j} = 1\\hat{i}$\n",
    "\n",
    "Posição do ponto B:\n",
    "\n",
    "$\\vec{r_{B/M}} = l\\cos(\\omega t)\\hat{i} + l\\sin(\\omega t) \\hat{j} = \\cos(2t)\\hat{i} + \\sin(2t) \\hat{j} $\n",
    "\n",
    "Velocidade do ponto B:\n",
    "\n",
    "$\\vec{v_{B}} = \\vec{v_{M}} + \\vec{\\omega}\\times\\vec{r_{B/M}} = 0,2\\hat{i}+0,5\\hat{j} +  2\\hat{k}\\times(\\cos(2t)\\hat{i} + \\sin(2t) \\hat{j})=$\n",
    "$=0,2\\hat{i}+0,5\\hat{j} - 2\\sin(2t)\\hat{i}+2\\cos(2t)\\hat{j} = (0,2- 2\\sin(2t))\\hat{i}+(0,2 +2\\cos(2t))\\hat{j}$\n",
    "\n",
    "Aceleração do ponto B:\n",
    "\n",
    "$\\vec{a_{B}} = \\frac{d\\vec{v_{B}}}{dt} = -4\\cos(2t)\\hat{i}-4\\sin(2t)\\hat{j}$"
   ]
  },
  {
   "cell_type": "markdown",
   "metadata": {},
   "source": [
    "<figure><img src='./../images/prova2nfig3.png' width=\"200\" style=\"float:right;margin: 0px 50px;\"/></figure>\n",
    "\n",
    "**3** Considere a cadeia cinemática representada ao lado. Calcule a expressão para:  \n",
    "a) (1,0) A posição do ponto P em termos dos ângulos articulares.  \n",
    "b) (1,0) O Jacobiano para esta cadeia cinemática.  \n",
    "c) (1,0) Velocidade linear do ponto P em termos dos ângulos articulares.  \n"
   ]
  },
  {
   "cell_type": "markdown",
   "metadata": {},
   "source": [
    "A posição do ponto P em termos dos ângulos articulares:"
   ]
  },
  {
   "cell_type": "code",
   "execution_count": 5,
   "metadata": {
    "ExecuteTime": {
     "end_time": "2017-12-19T02:46:03.486687Z",
     "start_time": "2017-12-19T02:46:03.458668Z"
    }
   },
   "outputs": [
    {
     "data": {
      "image/png": "[encoded data removed]",
      "text/latex": [
       "$$\\left[\\begin{matrix}\\ell_{1} \\operatorname{sin}\\left(\\alpha_{1}\\right) + \\ell_{2} \\operatorname{sin}\\left(\\alpha_{2}\\right)\\\\- \\ell_{1} \\operatorname{cos}\\left(\\alpha_{1}\\right) - \\ell_{2} \\operatorname{cos}\\left(\\alpha_{2}\\right)\\end{matrix}\\right]$$"
      ],
      "text/plain": [
       "⎡ell₁⋅sin(α₁) + ell₂⋅sin(α₂) ⎤\n",
       "⎢                            ⎥\n",
       "⎣-ell₁⋅cos(α₁) - ell₂⋅cos(α₂)⎦"
      ]
     },
     "execution_count": 5,
     "metadata": {},
     "output_type": "execute_result"
    }
   ],
   "source": [
    "rp = Matrix([l1*sin(alpha1) + l2*sin(alpha2),\n",
    "            -l1*cos(alpha1) - l2*cos(alpha2)])\n",
    "rp"
   ]
  },
  {
   "cell_type": "markdown",
   "metadata": {},
   "source": [
    "Onde $\\alpha_1$ e $\\alpha_2$ são considerados ângulos positivos como indicado na figura."
   ]
  },
  {
   "cell_type": "markdown",
   "metadata": {},
   "source": [
    "O Jacobiano para esta cadeia cinemática:"
   ]
  },
  {
   "cell_type": "code",
   "execution_count": 6,
   "metadata": {
    "ExecuteTime": {
     "end_time": "2017-12-19T02:46:05.134637Z",
     "start_time": "2017-12-19T02:46:05.107618Z"
    }
   },
   "outputs": [
    {
     "data": {
      "image/png": "[encoded data removed]",
      "text/latex": [
       "$$\\left[\\begin{matrix}\\ell_{1} \\operatorname{cos}\\left(\\alpha_{1}\\right) & \\ell_{2} \\operatorname{cos}\\left(\\alpha_{2}\\right)\\\\\\ell_{1} \\operatorname{sin}\\left(\\alpha_{1}\\right) & \\ell_{2} \\operatorname{sin}\\left(\\alpha_{2}\\right)\\end{matrix}\\right]$$"
      ],
      "text/plain": [
       "⎡ell₁⋅cos(α₁)  ell₂⋅cos(α₂)⎤\n",
       "⎢                          ⎥\n",
       "⎣ell₁⋅sin(α₁)  ell₂⋅sin(α₂)⎦"
      ]
     },
     "execution_count": 6,
     "metadata": {},
     "output_type": "execute_result"
    }
   ],
   "source": [
    "J = rp.jacobian([alpha1, alpha2])\n",
    "J"
   ]
  },
  {
   "cell_type": "markdown",
   "metadata": {},
   "source": [
    "Velocidade linear do ponto P em termos dos ângulos articulares:"
   ]
  },
  {
   "cell_type": "code",
   "execution_count": 7,
   "metadata": {
    "ExecuteTime": {
     "end_time": "2017-12-19T02:46:32.949574Z",
     "start_time": "2017-12-19T02:46:32.910546Z"
    }
   },
   "outputs": [
    {
     "data": {
      "image/png": "[encoded data removed]",
      "text/latex": [
       "$$\\left[\\begin{matrix}\\ell_{1} \\operatorname{cos}\\left(\\alpha_{1}\\right) \\dot{\\alpha}_{1} + \\ell_{2} \\operatorname{cos}\\left(\\alpha_{2}\\right) \\dot{\\alpha}_{2}\\\\\\ell_{1} \\operatorname{sin}\\left(\\alpha_{1}\\right) \\dot{\\alpha}_{1} + \\ell_{2} \\operatorname{sin}\\left(\\alpha_{2}\\right) \\dot{\\alpha}_{2}\\end{matrix}\\right]$$"
      ],
      "text/plain": [
       "⎡ell₁⋅cos(α₁)⋅α₁̇ + ell₂⋅cos(α₂)⋅α₂̇⎤\n",
       "⎢                                   ⎥\n",
       "⎣ell₁⋅sin(α₁)⋅α₁̇ + ell₂⋅sin(α₂)⋅α₂̇⎦"
      ]
     },
     "execution_count": 7,
     "metadata": {},
     "output_type": "execute_result"
    }
   ],
   "source": [
    "w = Matrix([alpha1, alpha2]).diff(t)\n",
    "vel = J*w\n",
    "vel"
   ]
  }
 ],
 "metadata": {
  "kernelspec": {
   "display_name": "Python 3",
   "language": "python",
   "name": "python3"
  },
  "language_info": {
   "codemirror_mode": {
    "name": "ipython",
    "version": 3
   },
   "file_extension": ".py",
   "mimetype": "text/x-python",
   "name": "python",
   "nbconvert_exporter": "python",
   "pygments_lexer": "ipython3",
   "version": "3.6.4"
  },
  "toc": {
   "nav_menu": {},
   "number_sections": true,
   "sideBar": true,
   "skip_h1_title": true,
   "toc_cell": false,
   "toc_position": {},
   "toc_section_display": "block",
   "toc_window_display": false
  },
  "varInspector": {
   "cols": {
    "lenName": 16,
    "lenType": 16,
    "lenVar": 40
   },
   "kernels_config": {
    "python": {
     "delete_cmd_postfix": "",
     "delete_cmd_prefix": "del ",
     "library": "var_list.py",
     "varRefreshCmd": "print(var_dic_list())"
    },
    "r": {
     "delete_cmd_postfix": ") ",
     "delete_cmd_prefix": "rm(",
     "library": "var_list.r",
     "varRefreshCmd": "cat(var_dic_list()) "
    }
   },
   "types_to_exclude": [
    "module",
    "function",
    "builtin_function_or_method",
    "instance",
    "_Feature"
   ],
   "window_display": false
  }
 },
 "nbformat": 4,
 "nbformat_minor": 2
}
