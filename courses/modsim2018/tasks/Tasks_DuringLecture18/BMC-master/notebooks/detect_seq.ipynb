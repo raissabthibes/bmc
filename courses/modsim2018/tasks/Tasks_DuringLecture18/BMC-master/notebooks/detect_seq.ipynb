{
 "cells": [
  {
   "cell_type": "markdown",
   "metadata": {},
   "source": [
    "# Detect sequential data\n",
    "\n",
    "> Marcos Duarte  \n",
    "> Laboratory of Biomechanics and Motor Control ([http://demotu.org/](http://demotu.org/))  \n",
    "> Federal University of ABC, Brazil"
   ]
  },
  {
   "cell_type": "markdown",
   "metadata": {},
   "source": [
    "The function `detect_seq.py` detects initial and final indices of sequential data identical to parameter `value` (default = 0) in the 1D numpy array_like `x`.  \n",
    "Use parameter `min_seq` to set the minimum number of sequential values to detect (default = 1).\n",
    "\n",
    "The signature of `detect_seq.py` is:\n",
    "```python\n",
    "inds = detect_seq(x, value=0, min_seq=1, show=False, ax=None)\n",
    "```\n",
    "Let's see how `detect_seq.py` works; first let's import the necessary Python libraries and configure the environment:  "
   ]
  },
  {
   "cell_type": "code",
   "execution_count": 1,
   "metadata": {},
   "outputs": [],
   "source": [
    "import numpy as np\n",
    "import matplotlib.pyplot as plt\n",
    "%matplotlib inline\n",
    "import sys\n",
    "sys.path.insert(1, r'./../functions')  # add to pythonpath\n",
    "from detect_seq import detect_seq"
   ]
  },
  {
   "cell_type": "markdown",
   "metadata": {},
   "source": [
    "Let's run the function examples:"
   ]
  },
  {
   "cell_type": "code",
   "execution_count": 2,
   "metadata": {},
   "outputs": [
    {
     "data": {
      "text/plain": [
       "array([[ 1,  3],\n",
       "       [ 7,  7],\n",
       "       [ 9, 11]], dtype=int64)"
      ]
     },
     "execution_count": 2,
     "metadata": {},
     "output_type": "execute_result"
    }
   ],
   "source": [
    "    >>> x = [1, 0, 0, 0, 1, 1, 1, 0, 1, 0, 0, 0]\n",
    "    >>> detect_seq(x)"
   ]
  },
  {
   "cell_type": "markdown",
   "metadata": {},
   "source": [
    "There is an option to plot the results:"
   ]
  },
  {
   "cell_type": "code",
   "execution_count": 3,
   "metadata": {},
   "outputs": [
    {
     "data": {
      "image/png": "[encoded data removed]",
      "text/plain": [
       "<matplotlib.figure.Figure at 0x195e1b02128>"
      ]
     },
     "metadata": {},
     "output_type": "display_data"
    },
    {
     "data": {
      "text/plain": [
       "array([[ 1,  3],\n",
       "       [ 9, 11]], dtype=int64)"
      ]
     },
     "execution_count": 3,
     "metadata": {},
     "output_type": "execute_result"
    }
   ],
   "source": [
    "    >>> detect_seq(x, value=0, min_seq=2, show=True)  "
   ]
  },
  {
   "cell_type": "markdown",
   "metadata": {},
   "source": [
    "## Function `detect_seq.py`"
   ]
  },
  {
   "cell_type": "code",
   "execution_count": null,
   "metadata": {},
   "outputs": [],
   "source": [
    "# %load ./../functions/detect_seq.py\n",
    "\"\"\"Detect initial and final indices of sequential data identical to value.\"\"\"\n",
    "\n",
    "import numpy as np\n",
    "\n",
    "__author__ = 'Marcos Duarte, https://github.com/demotu/BMC'\n",
    "__version__ = \"1.0.0\"\n",
    "__license__ = \"MIT\"\n",
    "\n",
    "\n",
    "def detect_seq(x, value=0, min_seq=1, show=False, ax=None):\n",
    "    \"\"\"Detect initial and final indices of sequential data identical to value.\n",
    "    \n",
    "    Detects initial and final indices of sequential data identical to\n",
    "    parameter value (default = 0) in a 1D numpy array_like.\n",
    "    Use parameter min_seq to set the minimum number of sequential values to\n",
    "    detect (default = 1).\n",
    "    There is an option to plot the results.\n",
    "\n",
    "    Parameters\n",
    "    ----------\n",
    "    x : 1D numpy array_like\n",
    "        array to search for sequential data\n",
    "    value : number, optional (default = 0)\n",
    "        Value to detect as sequential data\n",
    "    min_seq : integer, optional (default = 1)\n",
    "        Minimum number of sequential values to detect\n",
    "    show : bool, optional (default = False)\n",
    "        Show plot (True) of not (False).\n",
    "    ax : matplotlib object, optional (default = None)\n",
    "        Matplotlib axis object where to plot.\n",
    "\n",
    "    Returns\n",
    "    -------\n",
    "    inds : 2D numpy array [indi, indf]\n",
    "        Initial and final indices of sequential data identical to value\n",
    "\n",
    "    References\n",
    "    ----------\n",
    "    .. [1] http://nbviewer.jupyter.org/github/demotu/BMC/blob/master/notebooks/detect_seq.ipynb\n",
    "\n",
    "    Examples\n",
    "    --------\n",
    "    >>> import numpy as np\n",
    "    >>> x = [1, 0, 0, 0, 1, 1, 1, 0, 1, 0, 0, 0]\n",
    "    >>> detect_seq(x)\n",
    "\n",
    "    >>> inds = detect_seq(x, value=0, min_seq=2, show=True)\n",
    "    \"\"\"\n",
    "\n",
    "    isvalue = np.concatenate(([0], np.equal(x, value), [0]))\n",
    "    inds = np.where(np.abs(np.diff(isvalue)) == 1)[0].reshape(-1, 2)\n",
    "    if min_seq > 1:\n",
    "        inds = inds[np.where(np.diff(inds, axis=1) >= min_seq)[0]]\n",
    "    inds[:, 1] = inds[:, 1] - 1\n",
    "    if show:\n",
    "        _plot(x, value, min_seq, ax, inds)\n",
    "\n",
    "    return inds\n",
    "\n",
    "\n",
    "def _plot(x, value, min_seq, ax, inds):\n",
    "    \"\"\"Plot results of the detect_seq function, see its help.\"\"\"\n",
    "    try:\n",
    "        import matplotlib.pyplot as plt\n",
    "    except ImportError:\n",
    "        print('matplotlib is not available.')\n",
    "    else:\n",
    "        x = np.asarray(x)\n",
    "        if ax is None:\n",
    "            _, ax = plt.subplots(1, 1, figsize=(8, 4))\n",
    "\n",
    "        if inds.size:\n",
    "            for (indi, indf) in inds:\n",
    "                if indi == indf:\n",
    "                    ax.plot(indf, x[indf], 'ro', mec='r', ms=6)\n",
    "                else:\n",
    "                    ax.plot(range(indi, indf+1), x[indi:indf+1], 'r', lw=1)\n",
    "                    ax.axvline(x=indi, color='b', lw=1, ls='--')\n",
    "                ax.axvline(x=indf, color='b', lw=1, ls='--')\n",
    "            inds = np.vstack((np.hstack((0, inds[:, 1])),\n",
    "                              np.hstack((inds[:, 0], x.size-1)))).T\n",
    "            for (indi, indf) in inds:\n",
    "                ax.plot(range(indi, indf+1), x[indi:indf+1], 'k', lw=1)\n",
    "        else:\n",
    "            ax.plot(x, 'k', lw=1)\n",
    "\n",
    "        ax.set_xlim(-.02*x.size, x.size*1.02-1)\n",
    "        ymin, ymax = x[np.isfinite(x)].min(), x[np.isfinite(x)].max()\n",
    "        yrange = ymax - ymin if ymax > ymin else 1\n",
    "        ax.set_ylim(ymin - 0.1*yrange, ymax + 0.1*yrange)\n",
    "        text = 'Value=%.3g, minimum number=%d'\n",
    "        ax.set_title(text % (value, min_seq))\n",
    "        plt.show()\n"
   ]
  }
 ],
 "metadata": {
  "kernelspec": {
   "display_name": "Python 3",
   "language": "python",
   "name": "python3"
  },
  "language_info": {
   "codemirror_mode": {
    "name": "ipython",
    "version": 3
   },
   "file_extension": ".py",
   "mimetype": "text/x-python",
   "name": "python",
   "nbconvert_exporter": "python",
   "pygments_lexer": "ipython3",
   "version": "3.6.3"
  },
  "varInspector": {
   "cols": {
    "lenName": 16,
    "lenType": 16,
    "lenVar": 40
   },
   "kernels_config": {
    "python": {
     "delete_cmd_postfix": "",
     "delete_cmd_prefix": "del ",
     "library": "var_list.py",
     "varRefreshCmd": "print(var_dic_list())"
    },
    "r": {
     "delete_cmd_postfix": ") ",
     "delete_cmd_prefix": "rm(",
     "library": "var_list.r",
     "varRefreshCmd": "cat(var_dic_list()) "
    }
   },
   "types_to_exclude": [
    "module",
    "function",
    "builtin_function_or_method",
    "instance",
    "_Feature"
   ],
   "window_display": false
  },
  "widgets": {
   "state": {},
   "version": "1.1.2"
  }
 },
 "nbformat": 4,
 "nbformat_minor": 1
}
