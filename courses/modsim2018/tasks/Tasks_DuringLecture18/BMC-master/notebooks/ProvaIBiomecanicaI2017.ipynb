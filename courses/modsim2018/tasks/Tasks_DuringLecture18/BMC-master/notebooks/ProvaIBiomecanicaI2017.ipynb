{
 "cells": [
  {
   "cell_type": "markdown",
   "metadata": {},
   "source": [
    "# Gabarito da prova I de Biomecânica I - 2017\n",
    "\n",
    "> http://demotu.org/ensino/biomecanica-i/\n",
    "\n",
    "As soluções das questões das provas são apresentadas em Python.  "
   ]
  },
  {
   "cell_type": "markdown",
   "metadata": {},
   "source": [
    "## Diurno\n",
    "\n",
    "### Questão 1 [2 pontos]"
   ]
  },
  {
   "cell_type": "markdown",
   "metadata": {},
   "source": [
    "** a) [0,5] Equações para posição, velocidade e aceleração da partícula: **"
   ]
  },
  {
   "cell_type": "code",
   "execution_count": 1,
   "metadata": {
    "collapsed": true
   },
   "outputs": [],
   "source": [
    "import numpy as np\n",
    "import matplotlib.pyplot as plt\n",
    "%matplotlib inline\n",
    "import seaborn as sns\n",
    "sns.set_context(\"notebook\", font_scale=1.2, rc={\"lines.linewidth\": 2,\n",
    "                                                \"lines.markersize\": 10})\n",
    "from IPython.display import display, Math\n",
    "from sympy import Symbol, latex, lambdify, real_roots\n",
    "from sympy.physics.mechanics import dynamicsymbols"
   ]
  },
  {
   "cell_type": "markdown",
   "metadata": {},
   "source": [
    "A posição de uma partícula é dada por:\n",
    "\n",
    "$$ \\overrightarrow{\\mathbf{r}}(t) = (1 - 4t + 2t^2)\\,\\hat{\\mathbf{i}} + (2t)\\,\\hat{\\mathbf{j}} \\quad [m] $$\n",
    "\n",
    "Calcule para o movimento da marca no intervalo [0, 2] s:  \n",
    " a) Equações para posição, velocidade e aceleração da partícula  \n",
    " b) Posição, velocidade e aceleração linear mínimas e máximas de cada componente  \n",
    " c) Gráficos para posição, velocidade e aceleração linear de cada componente versus o tempo  "
   ]
  },
  {
   "cell_type": "markdown",
   "metadata": {},
   "source": [
    "**b) [0,5] Posição, velocidade e aceleração linear mínimas e máximas de cada componente:**"
   ]
  },
  {
   "cell_type": "code",
   "execution_count": 2,
   "metadata": {},
   "outputs": [
    {
     "data": {
      "text/latex": [
       "$$\\overrightarrow{\\mathbf{r}}(t) = (2 t^{2} - 4 t + 1)\\mathbf{\\hat{i}_{}} + (2 t)\\mathbf{\\hat{j}_{}}$$"
      ],
      "text/plain": [
       "<IPython.core.display.Math object>"
      ]
     },
     "metadata": {},
     "output_type": "display_data"
    },
    {
     "data": {
      "text/latex": [
       "$$\\overrightarrow{\\mathbf{v}}(t) = (4 t - 4)\\mathbf{\\hat{i}_{}} + (2)\\mathbf{\\hat{j}_{}}$$"
      ],
      "text/plain": [
       "<IPython.core.display.Math object>"
      ]
     },
     "metadata": {},
     "output_type": "display_data"
    },
    {
     "data": {
      "text/latex": [
       "$$\\overrightarrow{\\mathbf{a}}(t) = (4)\\mathbf{\\hat{i}_{}}$$"
      ],
      "text/plain": [
       "<IPython.core.display.Math object>"
      ]
     },
     "metadata": {},
     "output_type": "display_data"
    }
   ],
   "source": [
    "# declare the symbolic variables\n",
    "t = Symbol('t')\n",
    "# create a Cartesian coordinate system\n",
    "from sympy.vector import CoordSys3D\n",
    "O = CoordSys3D('')\n",
    "\n",
    "# position (given)\n",
    "r = (1 -4*t + 2*t**2)*O.i + (2*t)*O.j\n",
    "display(Math(latex('\\overrightarrow{\\mathbf{r}}(t) = ') + latex(r)))\n",
    "# velocity\n",
    "v = r.diff(t, 1)\n",
    "display(Math(latex('\\overrightarrow{\\mathbf{v}}(t) = ') + latex(v)))\n",
    "# acceleration\n",
    "a = v.diff(t, 1)\n",
    "display(Math(latex('\\overrightarrow{\\mathbf{a}}(t) = ') + latex(a)))"
   ]
  },
  {
   "cell_type": "markdown",
   "metadata": {},
   "source": [
    "Em geral, para achar máximos e mínimos de uma função, nós poderíamos calcular sua derivada, igualar à zero e resolver esta equação.\n",
    "Note que para o presente problema, as derivadas da posição e velocidade já foram calculadas no item anterior. A aceleração tem um valor constante, logo ou pode-se dizer que não há mínimo e máximo ou que o mínimo e máximo é igual a esta constante."
   ]
  },
  {
   "cell_type": "code",
   "execution_count": 3,
   "metadata": {
    "collapsed": true
   },
   "outputs": [],
   "source": [
    "# create functions for calculation of numerical values\n",
    "ri = lambdify(t, r.dot(O.i), 'numpy')\n",
    "rj = lambdify(t, r.dot(O.j), 'numpy')\n",
    "vi = lambdify(t, v.dot(O.i), 'numpy')\n",
    "vj = lambdify(t, v.dot(O.j), 'numpy')\n",
    "ai = lambdify(t, a.dot(O.i), 'numpy')\n",
    "aj = lambdify(t, a.dot(O.j), 'numpy')"
   ]
  },
  {
   "cell_type": "code",
   "execution_count": 4,
   "metadata": {},
   "outputs": [
    {
     "name": "stdout",
     "output_type": "stream",
     "text": [
      "Posição em i, [mínimo, máximo] em m:\n",
      "[-1, 1]\n",
      "Posição em j, [mínimo, máximo] em m:\n",
      "[0, 4]\n",
      "Velocidade em i, [mínimo, máximo] em m/s:\n",
      "[-4, 4]\n",
      "Velocidade em j, [mínimo, máximo] em m/s:\n",
      "[2, 2]\n",
      "Aceleração em i, [mínimo, máximo] em m/s/s:\n",
      "[4, 4]\n",
      "Aceleração em j, [mínimo, máximo] em m/s/s:\n",
      "[0, 0]\n"
     ]
    }
   ],
   "source": [
    "print('Posição em i, [mínimo, máximo] em m:')\n",
    "print('[{0}, {1}]'.format(ri(1), ri(0))) \n",
    "print('Posição em j, [mínimo, máximo] em m:')\n",
    "print('[{0}, {1}]'.format(rj(0), rj(2)))  \n",
    "print('Velocidade em i, [mínimo, máximo] em m/s:')\n",
    "print('[{0}, {1}]'.format(vi(0), vi(2))) \n",
    "print('Velocidade em j, [mínimo, máximo] em m/s:')\n",
    "print('[{0}, {1}]'.format(vj(0), vj(2)))  \n",
    "print('Aceleração em i, [mínimo, máximo] em m/s/s:')\n",
    "print('[{0}, {1}]'.format(ai(0), ai(2))) \n",
    "print('Aceleração em j, [mínimo, máximo] em m/s/s:')\n",
    "print('[{0}, {1}]'.format(aj(0), aj(2))) "
   ]
  },
  {
   "cell_type": "markdown",
   "metadata": {},
   "source": [
    "**c) [1,0] Gráficos para posição, velocidade e aceleração linear de cada componente versus o tempo:**"
   ]
  },
  {
   "cell_type": "code",
   "execution_count": 5,
   "metadata": {},
   "outputs": [
    {
     "data": {
      "image/png": "[encoded data removed]",
      "text/plain": [
       "<matplotlib.figure.Figure at 0x7f4e4b269b70>"
      ]
     },
     "metadata": {},
     "output_type": "display_data"
    }
   ],
   "source": [
    "# plots using matplotlib\n",
    "tn = np.arange(0, 2.02, .02)\n",
    "fig, axs = plt.subplots(1, 3, figsize=(12, 5), sharex=True)\n",
    "axs[0].plot(tn, ri(tn), 'b', label='$\\hat{\\mathbf{i}}$', linewidth=3)\n",
    "axs[0].plot(tn, rj(tn), 'r', label='$\\hat{\\mathbf{j}}$', linewidth=3)\n",
    "axs[0].set_title('Displacement [$\\mathrm{m}$]')\n",
    "axs[1].plot(tn, vi(tn), 'b', label='$\\hat{\\mathbf{i}}$', linewidth=3)\n",
    "axs[1].plot(tn, vj(tn)*np.ones(101), 'r', label='$\\hat{\\mathbf{j}}$', linewidth=3)\n",
    "axs[1].set_title('Velocity [$\\mathrm{m/s}$]')\n",
    "axs[2].plot(tn, ai(tn)*np.ones(101), 'b', label='$\\hat{\\mathbf{i}}$', linewidth=3)\n",
    "axs[2].plot(tn, aj(tn)*np.ones(101), 'r', label='$\\hat{\\mathbf{j}}$', linewidth=3)\n",
    "axs[2].set_title('Acceleration [$\\mathrm{m/s^2}$]')\n",
    "axs[2].legend(loc = 'center')\n",
    "for axi in axs:\n",
    "    axi.set_xlabel('Time [s]', fontsize=14)    \n",
    "    axi.grid(True)"
   ]
  },
  {
   "cell_type": "markdown",
   "metadata": {},
   "source": [
    "### Questão 2 [3 pontos]"
   ]
  },
  {
   "cell_type": "markdown",
   "metadata": {},
   "source": [
    "Considere as seguintes posições de marcas colocadas sobre uma coxa mensuradas por um sistema de captura do movimento: maléolo lateral (ml = [2.92, 10.10, 18.85]), maléolo medial (mm = [2.71, 10.22, 26.52]), cabeça da fíbula (fib = [5.05, 41.90, 15.41]), e côndilo medial da tíbia (tib = [8.29, 41.88, 26.52]). Estas posições estão na ordem x, y, z e são descritas no sistema de coordenadas do laboratório onde x aponta para a frente do sujeito, y aponta para cima e z aponta para o lado. Os centros articulares do tornozelo e joelho estão localizados respectivamente nos centros geométricos entre as marcas ml e mm e entre as marcas fib e tib. Um sistema de coordenadas anatômico para a perna pode ser definido como um eixo quase vertical apontando para cima e passando pelos centros articulares do tornozelo e joelho; outro eixo quase anteroposterior como o produto vetorial do eixo quase vertical e um vetor na direção médio-lateral passando por mm e ml; e o último eixo como o produto vetorial dos dois eixos anteriores, e a origem no centro articular do tornozelo.  \n",
    " a. Calcule o sistema de coordenadas anatômico para a perna como descrito acima.  \n",
    " b. Demonstre que a base deste sistema de coordenadas é ortonormal.  \n"
   ]
  },
  {
   "cell_type": "markdown",
   "metadata": {},
   "source": [
    "**a. [1,5] Calcule o sistema de coordenadas anatômico para a perna como descrito acima:**"
   ]
  },
  {
   "cell_type": "code",
   "execution_count": 6,
   "metadata": {},
   "outputs": [
    {
     "name": "stdout",
     "output_type": "stream",
     "text": [
      "Origem: \n",
      "O = [  2.815  10.16   22.685]\n",
      "Versores: \n",
      "e1 = [ 0.12043275  0.99126617 -0.05373394] \n",
      "e2 = [ 0.99246903 -0.11900497  0.02903508] \n",
      "e3 = [-0.02238689  0.05682604  0.99813307]\n"
     ]
    }
   ],
   "source": [
    "ml = np.array([2.92, 10.10, 18.85])\n",
    "mm = np.array([2.71, 10.22, 26.52])\n",
    "fib = np.array([5.05, 41.90, 15.41])\n",
    "tib = np.array([8.29, 41.88, 26.52])\n",
    "\n",
    "tornoz = (ml + mm)/2\n",
    "joelho = (fib + tib)/2\n",
    "\n",
    "v1 = joelho - tornoz        # first axis\n",
    "v2 = np.cross(v1, mm - ml)  # second axis\n",
    "v3 = np.cross(v2, v1)       # third axis\n",
    "\n",
    "# Vector normalization\n",
    "e1 = v1/np.linalg.norm(v1)\n",
    "e2 = v2/np.linalg.norm(v2)\n",
    "e3 = v3/np.linalg.norm(v3)\n",
    "\n",
    "print('Origem:', '\\nO =', tornoz)\n",
    "print('Versores:', '\\ne1 =', e1, '\\ne2 =', e2, '\\ne3 =', e3)"
   ]
  },
  {
   "cell_type": "markdown",
   "metadata": {},
   "source": [
    "**b. [1,5] Demonstre que a base deste sistema de coordenadas é ortonormal:**"
   ]
  },
  {
   "cell_type": "code",
   "execution_count": 7,
   "metadata": {},
   "outputs": [
    {
     "name": "stdout",
     "output_type": "stream",
     "text": [
      "\n",
      "Test of orthogonality (cross product between versors): \n",
      "e1 x e2: 1.0 \n",
      "e1 x e3: 1.0 \n",
      "e2 x e3: 1.0\n",
      "\n",
      "Norm of each versor: \n",
      "||e1|| = 1.0 \n",
      "||e2|| = 1.0 \n",
      "||e3|| = 1.0\n"
     ]
    }
   ],
   "source": [
    "print('\\nTest of orthogonality (cross product between versors):',\n",
    "      '\\ne1 x e2:', np.linalg.norm(np.cross(e1, e2)),\n",
    "      '\\ne1 x e3:', np.linalg.norm(np.cross(e1, e3)),\n",
    "      '\\ne2 x e3:', np.linalg.norm(np.cross(e2, e3)))\n",
    "print('\\nNorm of each versor:',\n",
    "      '\\n||e1|| =', np.linalg.norm(e1),\n",
    "      '\\n||e2|| =', np.linalg.norm(e2),\n",
    "      '\\n||e3|| =', np.linalg.norm(e3))"
   ]
  },
  {
   "cell_type": "markdown",
   "metadata": {},
   "source": [
    "### Questão 3 [3 pontos]"
   ]
  },
  {
   "cell_type": "markdown",
   "metadata": {},
   "source": [
    "Durante um lançamento de disco, a distância entre o disco e o centro de rotação do atleta, antes do disco sair da mão do competidor, segue a seguinte relação:$r = \\frac{\\theta^2}{2}$ m. Além disso, sabe-se que o atleta rotaciona em torno do próprio eixo com uma velocidade angular $\\omega = \\frac{t}{3}$ rad/s, e que a altura do disco em relação ao solo varia de acordo com a relação: $h = 0,1t+1$ m.  Considerando isso, pede-se:\n",
    "\n",
    "\t\n",
    "a) Encontre uma expressão do vetor que caracteriza a posição do disco antes de sair da mão do atleta em função do tempo, utilizando uma base fixa no solo. Deixe claro qual a origem da base que você utilizou. \n",
    "\n",
    "b) Encontre a expressão do mesmo vetor  posição utilizando uma base em coordenadas polares fixa na posição do disco.  \n",
    "\n",
    "c) Encontre a expressão do vetor velocidade na base em coordenadas polares.\n",
    "\n",
    "\n",
    "d) Encontre a expressão do vetor aceleração na base em coordenadas polares.\n",
    "\n",
    "e) Esboce a trajetória seguida pelo disco. Esboce, em qualquer ponto da trajetória, os vetores que formam a base em coordenadas polares."
   ]
  },
  {
   "cell_type": "code",
   "execution_count": 8,
   "metadata": {
    "collapsed": true
   },
   "outputs": [],
   "source": [
    "import sympy as sym\n",
    "from sympy.vector import CoordSys3D, express\n",
    "sym.init_printing()\n",
    "from sympy.plotting import plot_parametric, plot3d_parametric_line\n",
    "from sympy.physics.mechanics import ReferenceFrame, Vector, dot"
   ]
  },
  {
   "cell_type": "code",
   "execution_count": 9,
   "metadata": {
    "collapsed": true
   },
   "outputs": [],
   "source": [
    "O = sym.vector.CoordSys3D(' ')\n",
    "\n",
    "t = sym.symbols('t')\n",
    "er = sym.symbols('\\hat{e}_r')"
   ]
  },
  {
   "cell_type": "code",
   "execution_count": 10,
   "metadata": {
    "collapsed": true
   },
   "outputs": [],
   "source": [
    "omega = t/3\n",
    "theta  = (t**2)/6\n",
    "h = 0.1*t+1\n",
    "r = (theta**2)/2"
   ]
  },
  {
   "cell_type": "markdown",
   "metadata": {},
   "source": [
    "** a. [0,6] Encontre uma expressão do vetor que caracteriza a posição do disco antes de sair da mão do atleta em função do tempo, utilizando uma base fixa no solo. Deixe claro qual a origem da base que você utilizou.   **"
   ]
  },
  {
   "cell_type": "code",
   "execution_count": 11,
   "metadata": {
    "scrolled": true
   },
   "outputs": [
    {
     "data": {
      "text/latex": [
       "$$\\overrightarrow{\\mathbf{s}}(t) = (\\frac{t^{4}}{72} \\cos{\\left (\\frac{t^{2}}{6} \\right )})\\mathbf{\\hat{i}_{ }} + (\\frac{t^{4}}{72} \\sin{\\left (\\frac{t^{2}}{6} \\right )})\\mathbf{\\hat{j}_{ }} + (0.1 t + 1)\\mathbf{\\hat{k}_{ }}$$"
      ],
      "text/plain": [
       "<IPython.core.display.Math object>"
      ]
     },
     "metadata": {},
     "output_type": "display_data"
    }
   ],
   "source": [
    "s = r*sym.cos(theta)*O.i+r*sym.sin(theta)*O.j+h*O.k\n",
    "display(Math(latex('\\overrightarrow{\\mathbf{s}}(t) = ') + latex(s)))"
   ]
  },
  {
   "cell_type": "markdown",
   "metadata": {},
   "source": [
    "Com a origem da base localizada no eixo de rotação do atleta, no solo."
   ]
  },
  {
   "cell_type": "markdown",
   "metadata": {},
   "source": [
    "**b. [0,6] Encontre a expressão do mesmo vetor  posição utilizando uma base em coordenadas polares fixa na posição do disco.**"
   ]
  },
  {
   "cell_type": "code",
   "execution_count": 12,
   "metadata": {
    "collapsed": true
   },
   "outputs": [],
   "source": [
    "P = O.orient_new_axis(' ', theta, O.k,vector_names=['e_r','e_{}','k'])"
   ]
  },
  {
   "cell_type": "code",
   "execution_count": 13,
   "metadata": {},
   "outputs": [
    {
     "data": {
      "text/latex": [
       "$$\\overrightarrow{\\mathbf{s}}(t) = (\\frac{t^{4}}{72})\\mathbf{\\hat{e_r}_{ }} + (0.1 t + 1)\\mathbf{\\hat{k}_{ }}$$"
      ],
      "text/plain": [
       "<IPython.core.display.Math object>"
      ]
     },
     "metadata": {},
     "output_type": "display_data"
    }
   ],
   "source": [
    "#s = r*P.i + h*P.k\n",
    "display(Math(latex('\\overrightarrow{\\mathbf{s}}(t) = ') + latex(sym.simplify(express(s,P)))))"
   ]
  },
  {
   "cell_type": "markdown",
   "metadata": {
    "collapsed": true
   },
   "source": [
    "** c.[0,6] Encontre a expressão do vetor velocidade na base em coordenadas polares.**"
   ]
  },
  {
   "cell_type": "code",
   "execution_count": 14,
   "metadata": {},
   "outputs": [
    {
     "data": {
      "text/latex": [
       "$$\\overrightarrow{\\mathbf{v}}(t) = (\\frac{t^{3}}{18})\\mathbf{\\hat{e_r}_{ }} + (\\frac{t^{5}}{216})\\mathbf{\\hat{e_{}}_{ }} + (0.1)\\mathbf{\\hat{k}_{ }}$$"
      ],
      "text/plain": [
       "<IPython.core.display.Math object>"
      ]
     },
     "metadata": {},
     "output_type": "display_data"
    }
   ],
   "source": [
    "v = sym.diff(s,t)\n",
    "display(Math(latex('\\overrightarrow{\\mathbf{v}}(t) = ') + latex(sym.simplify(express(v,P)))))"
   ]
  },
  {
   "cell_type": "markdown",
   "metadata": {
    "collapsed": true
   },
   "source": [
    "** d.[0,6] Encontre a expressão do vetor aceleração na base em coordenadas polares.**"
   ]
  },
  {
   "cell_type": "code",
   "execution_count": 15,
   "metadata": {},
   "outputs": [
    {
     "data": {
      "text/latex": [
       "$$\\overrightarrow{\\mathbf{a}}(t) = (\\frac{t^{2}}{648} \\left(- t^{4} + 108\\right))\\mathbf{\\hat{e_r}_{ }} + (\\frac{t^{4}}{24})\\mathbf{\\hat{e_{}}_{ }}$$"
      ],
      "text/plain": [
       "<IPython.core.display.Math object>"
      ]
     },
     "metadata": {},
     "output_type": "display_data"
    }
   ],
   "source": [
    "a = sym.diff(v)\n",
    "display(Math(latex('\\overrightarrow{\\mathbf{a}}(t) = ') + latex(sym.simplify(express(a,P)))))"
   ]
  },
  {
   "cell_type": "markdown",
   "metadata": {},
   "source": [
    "** e.[0,6] Esboce a trajetória seguida pelo disco. Esboce, em qualquer ponto da trajetória, os vetores que formam a base em coordenadas polares. **"
   ]
  },
  {
   "cell_type": "code",
   "execution_count": 16,
   "metadata": {},
   "outputs": [
    {
     "data": {
      "image/png": "[encoded data removed]",
      "text/plain": [
       "<matplotlib.figure.Figure at 0x7f4e43275978>"
      ]
     },
     "metadata": {},
     "output_type": "display_data"
    },
    {
     "data": {
      "text/plain": [
       "<sympy.plotting.plot.Plot at 0x7f4e43247ef0>"
      ]
     },
     "execution_count": 16,
     "metadata": {},
     "output_type": "execute_result"
    }
   ],
   "source": [
    "plot3d_parametric_line(s.dot(O.i),s.dot(O.j),s.dot(O.k), (t,4,10))"
   ]
  },
  {
   "cell_type": "markdown",
   "metadata": {},
   "source": [
    "### Questão 4 [2 pontos]"
   ]
  },
  {
   "cell_type": "markdown",
   "metadata": {},
   "source": [
    "Na tabela abaixo estãos gravadas as coordenadas do centro de massa durante os saltos em distância de três saltadores. Nesta tabela, a primeira coluna é o número de identificação do saltador, a segunda coluna é o instante em segundos, a terceira é a coordenada X (paralela ao solo) em metros e a quarta coluna é a coordenada Y (ortogonal ao solo) em metros. Considerando isso, pede-se para escrever um pseudocódigo de um programa de computador que execute as seguintes tarefas:\n",
    "\n",
    "\t\n",
    "a) Dada uma matriz com os valores da tabela, monte uma matriz que contenha as coordenadas X do saltador 2 em uma coluna e as coordenadas Y do mesmo saltador em outra coluna. Além disso, monte um vetor com os instantes correspondentes a cada coordenada.\n",
    "\n",
    "b) Dada a matriz com as coordenadas X e Y, e o vetor de tempo obtidos no item anterior, obtenha o vetor velocidade do saltador 2 em cada instante.\n",
    "\t\n",
    "c) Tendo disponíveis as matrizes formadas nos itens anteriores, encontre uma base cuja origem seja a posição do saltador 2 e um dos seus vetores seja tangente à trajetória realizada pelo saltador."
   ]
  },
  {
   "cell_type": "code",
   "execution_count": 17,
   "metadata": {},
   "outputs": [
    {
     "data": {
      "text/plain": [
       "array([[ 1.        ,  0.        ,  0.        ,  0.        ],\n",
       "       [ 2.        ,  0.        ,  0.        ,  0.        ],\n",
       "       [ 3.        ,  0.        ,  0.        ,  0.        ],\n",
       "       [ 1.        ,  0.03421053,  0.34210526,  0.11057517],\n",
       "       [ 2.        ,  0.03421053,  0.37631579,  0.11399623],\n",
       "       [ 3.        ,  0.03421053,  0.30789474,  0.09689096],\n",
       "       [ 1.        ,  0.06842105,  0.68421053,  0.20966911],\n",
       "       [ 2.        ,  0.06842105,  0.75263158,  0.21651122],\n",
       "       [ 3.        ,  0.06842105,  0.61578947,  0.18230069],\n",
       "       [ 1.        ,  0.10263158,  1.02631579,  0.29728182],\n",
       "       [ 2.        ,  0.10263158,  1.12894737,  0.30754498],\n",
       "       [ 3.        ,  0.10263158,  0.92368421,  0.25622919],\n",
       "       [ 1.        ,  0.13684211,  1.36842105,  0.3734133 ],\n",
       "       [ 2.        ,  0.13684211,  1.50526316,  0.38709751],\n",
       "       [ 3.        ,  0.13684211,  1.23157895,  0.31867645],\n",
       "       [ 1.        ,  0.17105263,  1.71052632,  0.43806354],\n",
       "       [ 2.        ,  0.17105263,  1.88157895,  0.4551688 ],\n",
       "       [ 3.        ,  0.17105263,  1.53947368,  0.36964249],\n",
       "       [ 1.        ,  0.20526316,  2.05263158,  0.49123255],\n",
       "       [ 2.        ,  0.20526316,  2.25789474,  0.51175886],\n",
       "       [ 3.        ,  0.20526316,  1.84736842,  0.40912729],\n",
       "       [ 1.        ,  0.23947368,  2.39473684,  0.53292033],\n",
       "       [ 2.        ,  0.23947368,  2.63421053,  0.55686769],\n",
       "       [ 3.        ,  0.23947368,  2.15526316,  0.43713085],\n",
       "       [ 1.        ,  0.27368421,  2.73684211,  0.56312687],\n",
       "       [ 2.        ,  0.27368421,  3.01052632,  0.59049529],\n",
       "       [ 3.        ,  0.27368421,  2.46315789,  0.45365319],\n",
       "       [ 1.        ,  0.30789474,  3.07894737,  0.58185218],\n",
       "       [ 2.        ,  0.30789474,  3.38684211,  0.61264166],\n",
       "       [ 3.        ,  0.30789474,  2.77105263,  0.45869429],\n",
       "       [ 1.        ,  0.34210526,  3.42105263,  0.58909626],\n",
       "       [ 2.        ,  0.34210526,  3.76315789,  0.62330679],\n",
       "       [ 3.        ,  0.34210526,  3.07894737,  0.45225416],\n",
       "       [ 1.        ,  0.37631579,  3.76315789,  0.58485911],\n",
       "       [ 2.        ,  0.37631579,  4.13947368,  0.62249069],\n",
       "       [ 3.        ,  0.37631579,  3.38684211,  0.43433279],\n",
       "       [ 1.        ,  0.41052632,  4.10526316,  0.56914072],\n",
       "       [ 2.        ,  0.41052632,  4.51578947,  0.61019335],\n",
       "       [ 3.        ,  0.41052632,  3.69473684,  0.40493019],\n",
       "       [ 1.        ,  0.44473684,  4.44736842,  0.5419411 ],\n",
       "       [ 2.        ,  0.44473684,  4.89210526,  0.58641479],\n",
       "       [ 3.        ,  0.44473684,  4.00263158,  0.36404636],\n",
       "       [ 1.        ,  0.47894737,  4.78947368,  0.50326025],\n",
       "       [ 2.        ,  0.47894737,  5.26842105,  0.55115499],\n",
       "       [ 3.        ,  0.47894737,  4.31052632,  0.3116813 ],\n",
       "       [ 1.        ,  0.51315789,  5.13157895,  0.45309816],\n",
       "       [ 2.        ,  0.51315789,  5.64473684,  0.50441395],\n",
       "       [ 3.        ,  0.51315789,  4.61842105,  0.24783501],\n",
       "       [ 1.        ,  0.54736842,  5.47368421,  0.39145485],\n",
       "       [ 2.        ,  0.54736842,  6.02105263,  0.44619169],\n",
       "       [ 3.        ,  0.54736842,  4.92631579,  0.17250748],\n",
       "       [ 1.        ,  0.58157895,  5.81578947,  0.3183303 ],\n",
       "       [ 2.        ,  0.58157895,  6.39736842,  0.37648819],\n",
       "       [ 3.        ,  0.58157895,  5.23421053,  0.08569872],\n",
       "       [ 1.        ,  0.61578947,  6.15789474,  0.23372452],\n",
       "       [ 2.        ,  0.61578947,  6.77368421,  0.29530346],\n",
       "       [ 3.        ,  0.61578947,  5.54210526, -0.01259127],\n",
       "       [ 1.        ,  0.65      ,  6.5       ,  0.1376375 ],\n",
       "       [ 2.        ,  0.65      ,  7.15      ,  0.2026375 ],\n",
       "       [ 3.        ,  0.65      ,  5.85      , -0.1223625 ]])"
      ]
     },
     "execution_count": 17,
     "metadata": {},
     "output_type": "execute_result"
    }
   ],
   "source": [
    "t = np.linspace(0,0.65,20)\n",
    "r1 = np.transpose(np.array([10*t,-9.81/2*t**2+3.4*t]))\n",
    "r2 = np.transpose(np.array([11*t,-9.81/2*t**2+3.5*t]))\n",
    "r3 = np.transpose(np.array([9*t,-9.81/2*t**2+3*t]))\n",
    "r = np.zeros((3*len(t),4))\n",
    "for i in range(len(t)):\n",
    "    r[3*(i):3*(i+1),:] = np.hstack((np.array([[1],[2],[3]]), np.array([[t[i]],[t[i]],[t[i]]]), np.vstack((r1[i,:],r2[i,:],r3[i,:]))))\n",
    "r"
   ]
  },
  {
   "cell_type": "markdown",
   "metadata": {},
   "source": [
    "** a. [0,5] Dada uma matriz com os valores da tabela, monte uma matriz que contenha as coordenadas X do saltador 2 em uma coluna e as coordenadas Y do mesmo saltador em outra coluna. Além disso, monte um vetor com os instantes correspondentes a cada coordenada.**"
   ]
  },
  {
   "cell_type": "code",
   "execution_count": 18,
   "metadata": {},
   "outputs": [
    {
     "name": "stdout",
     "output_type": "stream",
     "text": [
      "P = [[ 0.          0.        ]\n",
      " [ 0.37631579  0.11399623]\n",
      " [ 0.75263158  0.21651122]\n",
      " [ 1.12894737  0.30754498]\n",
      " [ 1.50526316  0.38709751]\n",
      " [ 1.88157895  0.4551688 ]\n",
      " [ 2.25789474  0.51175886]\n",
      " [ 2.63421053  0.55686769]\n",
      " [ 3.01052632  0.59049529]\n",
      " [ 3.38684211  0.61264166]\n",
      " [ 3.76315789  0.62330679]\n",
      " [ 4.13947368  0.62249069]\n",
      " [ 4.51578947  0.61019335]\n",
      " [ 4.89210526  0.58641479]\n",
      " [ 5.26842105  0.55115499]\n",
      " [ 5.64473684  0.50441395]\n",
      " [ 6.02105263  0.44619169]\n",
      " [ 6.39736842  0.37648819]\n",
      " [ 6.77368421  0.29530346]\n",
      " [ 7.15        0.2026375 ]]\n",
      "t = [[ 0.        ]\n",
      " [ 0.03421053]\n",
      " [ 0.06842105]\n",
      " [ 0.10263158]\n",
      " [ 0.13684211]\n",
      " [ 0.17105263]\n",
      " [ 0.20526316]\n",
      " [ 0.23947368]\n",
      " [ 0.27368421]\n",
      " [ 0.30789474]\n",
      " [ 0.34210526]\n",
      " [ 0.37631579]\n",
      " [ 0.41052632]\n",
      " [ 0.44473684]\n",
      " [ 0.47894737]\n",
      " [ 0.51315789]\n",
      " [ 0.54736842]\n",
      " [ 0.58157895]\n",
      " [ 0.61578947]\n",
      " [ 0.65      ]]\n"
     ]
    }
   ],
   "source": [
    "P = np.zeros((int(np.size(r,0)/3),2))\n",
    "time = np.zeros((int(np.size(r,0)/3),1))\n",
    "k = 0\n",
    "for i in range(np.size(r,0)):\n",
    "    if r[i,0] == 2:\n",
    "        P[k,:] = np.array([r[i,2],r[i,3]])\n",
    "        time[k] = r[i,1] \n",
    "        k += 1\n",
    "print('P = ' + str(P))\n",
    "print('t = ' + str(time))"
   ]
  },
  {
   "cell_type": "markdown",
   "metadata": {},
   "source": [
    "** b. [0,5] Dada a matriz com as coordenadas X e Y, e o vetor de tempo obtidos no item anterior, obtenha o vetor velocidade do saltador 2 em cada instante. **"
   ]
  },
  {
   "cell_type": "code",
   "execution_count": 19,
   "metadata": {},
   "outputs": [
    {
     "name": "stdout",
     "output_type": "stream",
     "text": [
      "v=[[ 11.           3.33219737]\n",
      " [ 11.           2.99659211]\n",
      " [ 11.           2.66098684]\n",
      " [ 11.           2.32538158]\n",
      " [ 11.           1.98977632]\n",
      " [ 11.           1.65417105]\n",
      " [ 11.           1.31856579]\n",
      " [ 11.           0.98296053]\n",
      " [ 11.           0.64735526]\n",
      " [ 11.           0.31175   ]\n",
      " [ 11.          -0.02385526]\n",
      " [ 11.          -0.35946053]\n",
      " [ 11.          -0.69506579]\n",
      " [ 11.          -1.03067105]\n",
      " [ 11.          -1.36627632]\n",
      " [ 11.          -1.70188158]\n",
      " [ 11.          -2.03748684]\n",
      " [ 11.          -2.37309211]\n",
      " [ 11.          -2.70869737]]\n"
     ]
    }
   ],
   "source": [
    "deltaT = time[1] - time[0]\n",
    "v = np.diff(P,1,0)/deltaT\n",
    "print('v=' + str(v))"
   ]
  },
  {
   "cell_type": "markdown",
   "metadata": {
    "collapsed": true
   },
   "source": [
    "** c.[1,0] Tendo disponíveis as matrizes formadas nos itens anteriores, encontre uma base cuja origem seja a posição do saltador 2 e um dos seus vetores seja tangente à trajetória realizada pelo saltador.**"
   ]
  },
  {
   "cell_type": "code",
   "execution_count": 20,
   "metadata": {},
   "outputs": [
    {
     "name": "stdout",
     "output_type": "stream",
     "text": [
      "e_t = [[ 0.95705183  0.28991687]\n",
      " [ 0.96483966  0.26283917]\n",
      " [ 0.9719649   0.23512598]\n",
      " [ 0.97837746  0.20682736]\n",
      " [ 0.98403048  0.17800005]\n",
      " [ 0.98888128  0.14870716]\n",
      " [ 0.99289214  0.1190176 ]\n",
      " [ 0.99603114  0.08900539]\n",
      " [ 0.9982728   0.05874883]\n",
      " [ 0.99959864  0.02832953]\n",
      " [ 0.99999765 -0.00216866]\n",
      " [ 0.99946649 -0.0326608 ]\n",
      " [ 0.99800961 -0.06306203]\n",
      " [ 0.99563909 -0.09328876]\n",
      " [ 0.99237444 -0.12325979]\n",
      " [ 0.98824207 -0.15289736]\n",
      " [ 0.98327481 -0.18212813]\n",
      " [ 0.9775111  -0.21088399]\n",
      " [ 0.97099428 -0.2391027 ]]\n"
     ]
    }
   ],
   "source": [
    "vNorm = np.sqrt(v[:,0]**2+v[:,1]**2)\n",
    "et = np.transpose([v[:,0]/vNorm, v[:,1]/vNorm])\n",
    "print('e_t = ' + str(et))"
   ]
  },
  {
   "cell_type": "code",
   "execution_count": 21,
   "metadata": {
    "scrolled": true
   },
   "outputs": [
    {
     "name": "stdout",
     "output_type": "stream",
     "text": [
      "e_n = [[ 0.27640545 -0.96104112]\n",
      " [ 0.24900807 -0.96850141]\n",
      " [ 0.22099993 -0.97527382]\n",
      " [ 0.19243446 -0.98130983]\n",
      " [ 0.16337161 -0.9865646 ]\n",
      " [ 0.1338774  -0.9909979 ]\n",
      " [ 0.10402334 -0.99457486]\n",
      " [ 0.07388561 -0.99726672]\n",
      " [ 0.04354423 -0.9990515 ]\n",
      " [ 0.01308196 -0.99991443]\n",
      " [-0.01741675 -0.99984832]\n",
      " [-0.04786696 -0.99885372]\n",
      " [-0.07818438 -0.99693892]\n",
      " [-0.10828658 -0.99411972]\n",
      " [-0.13809403 -0.99041912]\n",
      " [-0.16753116 -0.98586678]\n",
      " [-0.19652719 -0.98049837]\n",
      " [-0.22501694 -0.97435485]]\n"
     ]
    }
   ],
   "source": [
    "det = (np.diff(et,1,0)/deltaT)\n",
    "C = np.transpose([det[:,0]/vNorm[0:-1], det[:,1]/vNorm[0:-1]])\n",
    "CNorm = np.sqrt(C[:,0]**2+C[:,1]**2)\n",
    "en = np.transpose([C[:,0]/CNorm, C[:,1]/CNorm])\n",
    "print('e_n = ' + str(en))"
   ]
  },
  {
   "cell_type": "markdown",
   "metadata": {},
   "source": [
    "## Noturno\n",
    "\n",
    "### Questão 1 [3 pontos]"
   ]
  },
  {
   "cell_type": "markdown",
   "metadata": {},
   "source": [
    "Considere um sujeito parado em pé com o braço na vertical, ao lado do tronco, e cotovelo flexionado 90 graus fazendo com que o ante-braço fique na horizontal e à frente de seu tronco. A partir desta posição inicial, o sujeito realiza mais uma flexão do cotovelo de 90 graus e para depois de 1 s. A equação de movimento para uma marca na mão do sujeito é:\n",
    "\n",
    "$$ \\overrightarrow{\\mathbf{r}}(t) = (0.5 - 5t^3 + 7.5t^4 - 3t^5)\\,\\hat{\\mathbf{i}} + (1.0 + 5t^3 - 7.5t^4 + 3t^5)\\,\\hat{\\mathbf{j}} \\quad [m]$$\n",
    "\n",
    "Onde $\\hat{\\mathbf{i}}$ e $\\hat{\\mathbf{j}}$ representam os versores de um sistema de coordenadas cartesianas com sentidos positivos na horizontal para frente e na vertical para cima, respectivamente.\n",
    "\n",
    "Calcule para o movimento da marca no intervalo [0, 1] s:  \n",
    " a) Equações para velocidade e aceleração linear  \n",
    " b) Posição, velocidade e aceleração linear mínimas e máximas de cada componente  \n",
    " c) Gráficos para posição, velocidade e aceleração linear de cada componente versus o tempo  \n",
    " d) Equações para posição, velocidade e aceleração angular do ante-braço  "
   ]
  },
  {
   "cell_type": "markdown",
   "metadata": {},
   "source": [
    "**a) [0,75] Equações para velocidade e aceleração linear:**"
   ]
  },
  {
   "cell_type": "code",
   "execution_count": 22,
   "metadata": {},
   "outputs": [
    {
     "data": {
      "text/latex": [
       "$$\\overrightarrow{\\mathbf{r}}(t) = (- 3 t^{5} + 7.5 t^{4} - 5 t^{3} + 0.5)\\mathbf{\\hat{i}_{}} + (3 t^{5} - 7.5 t^{4} + 5 t^{3} + 1.0)\\mathbf{\\hat{j}_{}}$$"
      ],
      "text/plain": [
       "<IPython.core.display.Math object>"
      ]
     },
     "metadata": {},
     "output_type": "display_data"
    },
    {
     "data": {
      "text/latex": [
       "$$\\overrightarrow{\\mathbf{v}}(t) = (- 15 t^{4} + 30.0 t^{3} - 15 t^{2})\\mathbf{\\hat{i}_{}} + (15 t^{4} - 30.0 t^{3} + 15 t^{2})\\mathbf{\\hat{j}_{}}$$"
      ],
      "text/plain": [
       "<IPython.core.display.Math object>"
      ]
     },
     "metadata": {},
     "output_type": "display_data"
    },
    {
     "data": {
      "text/latex": [
       "$$\\overrightarrow{\\mathbf{a}}(t) = (- 60 t^{3} + 90.0 t^{2} - 30 t)\\mathbf{\\hat{i}_{}} + (60 t^{3} - 90.0 t^{2} + 30 t)\\mathbf{\\hat{j}_{}}$$"
      ],
      "text/plain": [
       "<IPython.core.display.Math object>"
      ]
     },
     "metadata": {},
     "output_type": "display_data"
    }
   ],
   "source": [
    "# declare the symbolic variables\n",
    "t = Symbol('t')\n",
    "# create a Cartesian coordinate system\n",
    "from sympy.vector import CoordSys3D\n",
    "O = CoordSys3D('')\n",
    "\n",
    "# position (given)\n",
    "r = (0.5 - 5*t**3 + 7.5*t**4 - 3*t**5)*O.i + (1.0 + 5*t**3 - 7.5*t**4 + 3*t**5)*O.j\n",
    "display(Math(latex('\\overrightarrow{\\mathbf{r}}(t) = ') + latex(r)))\n",
    "# velocity\n",
    "v = r.diff(t, 1)\n",
    "display(Math(latex('\\overrightarrow{\\mathbf{v}}(t) = ') + latex(v)))\n",
    "# acceleration\n",
    "a = v.diff(t, 1)\n",
    "display(Math(latex('\\overrightarrow{\\mathbf{a}}(t) = ') + latex(a)))"
   ]
  },
  {
   "cell_type": "markdown",
   "metadata": {},
   "source": [
    "**b) [0,75]Posição, velocidade e aceleração linear mínimas e máximas de cada componente:**\n",
    "\n",
    "Em geral, para achar máximos e mínimos de uma função, nós poderíamos calcular sua derivada, igualar à zero e resolver esta equação.  \n",
    "Note que para o presente problema, as derivadas da posição e velocidade já foram calculadas no item anterior. Vamos calcular a derivada da aceleração (conhecida como jerk ou solavanco): "
   ]
  },
  {
   "cell_type": "code",
   "execution_count": 23,
   "metadata": {},
   "outputs": [
    {
     "data": {
      "text/latex": [
       "$$\\overrightarrow{\\mathbf{jerk}}(t) = (- 180 t^{2} + 180.0 t - 30)\\mathbf{\\hat{i}_{}} + (180 t^{2} - 180.0 t + 30)\\mathbf{\\hat{j}_{}}$$"
      ],
      "text/plain": [
       "<IPython.core.display.Math object>"
      ]
     },
     "metadata": {},
     "output_type": "display_data"
    }
   ],
   "source": [
    "# jerk\n",
    "jerk = a.diff(t, 1)\n",
    "display(Math(latex('\\overrightarrow{\\mathbf{jerk}}(t) = ') + latex(jerk)))"
   ]
  },
  {
   "cell_type": "markdown",
   "metadata": {},
   "source": [
    "- Note que as duas componentes da velocidade, da aceleração e do jerk são iguais a menos do sinal trocado entre elas. Isto quer dizer que o máximo numa das componentes é o mínimo na outra, e vice-versa. Então só precisamos achar mínimos e máximos para uma das componentes.  \n",
    "- Note que os polinômios para velocidade (grau 4) e para aceleração (grau 3) não possuem termos independentes de $t$ (grau zero), logo $t=0$ é uma raiz (máximo ou mínimo) destes polinômios.  \n",
    "- Para achar outras raízes, podemos fatorar (dividir) o polinômio para velocidade por $t^2$ e para aceleração por $t$ e resolver os polinômios de segunda ordem (e para achar os máximos e mínimos da aceleração, o polinômio para o jerk também é de segunda ordem!).  \n",
    "\n",
    "Por inspeção, a raiz do polinômio para velocidade, $15t^2-30t+15=0$, é $t=1s$ e a raiz do polinômio para aceleração, $60t^2-90t+30=0$, é $t=0.5s$.  \n",
    "As raizes do polinômio para jerk são:"
   ]
  },
  {
   "cell_type": "code",
   "execution_count": 24,
   "metadata": {},
   "outputs": [
    {
     "name": "stdout",
     "output_type": "stream",
     "text": [
      "[-sqrt(3)/6 + 1/2, sqrt(3)/6 + 1/2]\n",
      "[0.211324865405187, 0.788675134594813]\n"
     ]
    }
   ],
   "source": [
    "roots = real_roots(jerk.dot(O.j))\n",
    "print(roots)\n",
    "roots = [x.evalf() for x in roots]\n",
    "print(roots)"
   ]
  },
  {
   "cell_type": "markdown",
   "metadata": {},
   "source": [
    "Substituindo os valores correspondentes nas expressões para posição, velocidade e aceleração:"
   ]
  },
  {
   "cell_type": "code",
   "execution_count": 25,
   "metadata": {
    "collapsed": true
   },
   "outputs": [],
   "source": [
    "# create functions for calculation of numerical values\n",
    "ri = lambdify(t, r.dot(O.i), 'numpy')\n",
    "rj = lambdify(t, r.dot(O.j), 'numpy')\n",
    "vi = lambdify(t, v.dot(O.i), 'numpy')\n",
    "vj = lambdify(t, v.dot(O.j), 'numpy')\n",
    "ai = lambdify(t, a.dot(O.i), 'numpy')\n",
    "aj = lambdify(t, a.dot(O.j), 'numpy')"
   ]
  },
  {
   "cell_type": "code",
   "execution_count": 26,
   "metadata": {},
   "outputs": [
    {
     "name": "stdout",
     "output_type": "stream",
     "text": [
      "Posição horizontal, [mínimo, máximo] em m:\n",
      "[0.0, 0.5]\n",
      "Posição vertical, [mínimo, máximo] em m:\n",
      "[1.0, 1.5]\n",
      "Velocidade horizontal, [mínimo, máximo] em m/s:\n",
      "[-0.9375, 0.0]\n",
      "Velocidade vertical, [mínimo, máximo] em m/s:\n",
      "[0.0, 0.9375]\n",
      "Aceleração horizontal, [mínimo, máximo] em m/s/s:\n",
      "[-2.88675134594813, 2.88675134594813]\n",
      "Aceleração vertical, [mínimo, máximo] em m/s/s:\n",
      "[-2.88675134594813, 2.88675134594813]\n"
     ]
    }
   ],
   "source": [
    "print('Posição horizontal, [mínimo, máximo] em m:')\n",
    "print('[{0}, {1}]'.format(ri(1), ri(0))) \n",
    "print('Posição vertical, [mínimo, máximo] em m:')\n",
    "print('[{0}, {1}]'.format(rj(0), rj(1)))  \n",
    "print('Velocidade horizontal, [mínimo, máximo] em m/s:')\n",
    "print('[{0}, {1}]'.format(vi(.5), vi(0))) \n",
    "print('Velocidade vertical, [mínimo, máximo] em m/s:')\n",
    "print('[{0}, {1}]'.format(vj(0), vj(.5)))  \n",
    "print('Aceleração horizontal, [mínimo, máximo] em m/s/s:')\n",
    "print('[{0}, {1}]'.format(ai(roots[0]), ai(roots[1]))) \n",
    "print('Aceleração vertical, [mínimo, máximo] em m/s/s:')\n",
    "print('[{0}, {1}]'.format(aj(roots[1]), aj(roots[0]))) "
   ]
  },
  {
   "cell_type": "markdown",
   "metadata": {},
   "source": [
    "**c) [0,75]Gráficos para posição, velocidade e aceleração linear de cada componente versus o tempo:**"
   ]
  },
  {
   "cell_type": "code",
   "execution_count": 27,
   "metadata": {},
   "outputs": [
    {
     "data": {
      "image/png": "[encoded data removed]",
      "text/plain": [
       "<matplotlib.figure.Figure at 0x7f4e4311dbe0>"
      ]
     },
     "metadata": {},
     "output_type": "display_data"
    }
   ],
   "source": [
    "# plots using matplotlib\n",
    "tn = np.arange(0, 1.01, .01)\n",
    "fig, axs = plt.subplots(1, 3, figsize=(12, 5), sharex=True)\n",
    "axs[0].plot(tn, ri(tn), 'b', label='$\\hat{\\mathbf{i}}$', linewidth=3)\n",
    "axs[0].plot(tn, rj(tn), 'r', label='$\\hat{\\mathbf{j}}$', linewidth=3)\n",
    "axs[0].set_title('Displacement [$\\mathrm{m}$]')\n",
    "axs[1].plot(tn, vi(tn), 'b', label='$\\hat{\\mathbf{i}}$', linewidth=3)\n",
    "axs[1].plot(tn, vj(tn), 'r', label='$\\hat{\\mathbf{j}}$', linewidth=3)\n",
    "axs[1].set_title('Velocity [$\\mathrm{m/s}$]')\n",
    "axs[2].plot(tn, ai(tn), 'b', label='$\\hat{\\mathbf{i}}$', linewidth=3)\n",
    "axs[2].plot(tn, aj(tn), 'r', label='$\\hat{\\mathbf{j}}$', linewidth=3)\n",
    "axs[2].set_title('Acceleration [$\\mathrm{m/s^2}$]')\n",
    "axs[0].legend(loc = 'center')\n",
    "for axi in axs:\n",
    "    axi.set_xlabel('Time [s]', fontsize=14)    \n",
    "    axi.grid(True)"
   ]
  },
  {
   "cell_type": "markdown",
   "metadata": {},
   "source": [
    "** d)[0,75] Equações para posição, velocidade e aceleração angular do ante-braço:**\n",
    "\n",
    "A partir da equação da posição ou do gráfico pode-se inferir que o cotovelo está na posição [0, 1] m e que o comprimento do ante-braço, L, é igual a 0,5 m.  \n",
    "A partir da posição linear, o ângulo do ante-braço com a horizontal, $\\alpha$, pode ser calculado usando a função trigonométrica inversa da tangente ou do seno, por exemplo:\n",
    "\n",
    "$$ \\alpha(t) = \\arcsin\\left(\\frac{1.0 + 5t^3 - 7.5t^4 + 3t^5 - 1}{0.5}\\right) $$"
   ]
  },
  {
   "cell_type": "code",
   "execution_count": 28,
   "metadata": {
    "collapsed": true
   },
   "outputs": [],
   "source": [
    "angle = dynamicsymbols('alpha')  # it's already alpha(t)"
   ]
  },
  {
   "cell_type": "code",
   "execution_count": 29,
   "metadata": {
    "collapsed": true
   },
   "outputs": [],
   "source": [
    "vangle = angle.diff(t, 1)"
   ]
  },
  {
   "cell_type": "code",
   "execution_count": 30,
   "metadata": {
    "collapsed": true
   },
   "outputs": [],
   "source": [
    "aangle = vangle.diff(t, 1)"
   ]
  },
  {
   "cell_type": "code",
   "execution_count": 31,
   "metadata": {},
   "outputs": [
    {
     "data": {
      "text/latex": [
       "$$\\dot{\\alpha}(t)=\\frac{d}{d t} \\alpha{\\left (t \\right )}$$"
      ],
      "text/plain": [
       "<IPython.core.display.Math object>"
      ]
     },
     "metadata": {},
     "output_type": "display_data"
    },
    {
     "data": {
      "text/latex": [
       "$$\\ddot{\\alpha}(t)=\\frac{d^{2}}{d t^{2}}  \\alpha{\\left (t \\right )}$$"
      ],
      "text/plain": [
       "<IPython.core.display.Math object>"
      ]
     },
     "metadata": {},
     "output_type": "display_data"
    }
   ],
   "source": [
    "display(Math(latex(r'\\dot{\\alpha}(t)=') + latex(vangle)))\n",
    "display(Math(latex(r'\\ddot{\\alpha}(t)=') + latex(aangle)))"
   ]
  },
  {
   "cell_type": "markdown",
   "metadata": {},
   "source": [
    "As expressões acima são válidas como resposta, já que calcular a segunda derivada do `arcsin` é trabalhoso."
   ]
  },
  {
   "cell_type": "markdown",
   "metadata": {},
   "source": [
    "### Questão 2 [2 pontos]"
   ]
  },
  {
   "cell_type": "markdown",
   "metadata": {},
   "source": [
    "Considere a situação em que uma bailarina gira em torno do próprio eixo. Nesta situação, a distância entre a mão da bailarina e o seu centro de rotação segue a seguinte relação: $r = \\frac{2}{\\theta}$ m. Além disso, a bailarina rotaciona em torno do próprio eixo com uma velocidade angular $\\omega = \\frac{t}{2}$ rad/s, e que a altura da sua mão em relação ao solo se mantém constante em 1,3 m.  Considerando isso, pede-se:\n",
    "\n",
    "a) Encontre a expressão do vetor  posição da mão da bailarina utilizando uma base em coordenadas polares fixa na posição da mão.  \n",
    "\n",
    "b) Encontre a expressão do vetor velocidade na base em coordenadas polares.\n",
    "\n",
    "c) Encontre a expressão do vetor aceleração na base em coordenadas polares.\n",
    "\n",
    "d) Esboce a trajetória seguida pela mão. Esboce, em qualquer ponto da trajetória, os vetores que formam a base em coordenadas polares."
   ]
  },
  {
   "cell_type": "code",
   "execution_count": 32,
   "metadata": {
    "collapsed": true
   },
   "outputs": [],
   "source": [
    "O = sym.vector.CoordSys3D(' ')\n",
    "\n",
    "t = sym.symbols('t')\n",
    "er = sym.symbols('\\hat{e}_r')"
   ]
  },
  {
   "cell_type": "code",
   "execution_count": 33,
   "metadata": {
    "collapsed": true
   },
   "outputs": [],
   "source": [
    "omega = t/2\n",
    "theta  = (t**2)/4\n",
    "h = 1.3\n",
    "r = 2/theta"
   ]
  },
  {
   "cell_type": "markdown",
   "metadata": {},
   "source": [
    "** a. [0,5]Encontre a expressão do vetor  posição da mão da bailarina utilizando uma base em coordenadas polares fixa na posição da mão.     **"
   ]
  },
  {
   "cell_type": "code",
   "execution_count": 34,
   "metadata": {
    "collapsed": true
   },
   "outputs": [],
   "source": [
    "s = r*sym.cos(theta)*O.i+r*sym.sin(theta)*O.j"
   ]
  },
  {
   "cell_type": "code",
   "execution_count": 35,
   "metadata": {
    "collapsed": true
   },
   "outputs": [],
   "source": [
    "P = O.orient_new_axis(' ', theta, O.k,vector_names=['e_r','e_{theta}','k'])"
   ]
  },
  {
   "cell_type": "code",
   "execution_count": 36,
   "metadata": {},
   "outputs": [
    {
     "data": {
      "text/latex": [
       "$$\\overrightarrow{\\mathbf{s}}(t) = (\\frac{8}{t^{2}})\\mathbf{\\hat{e_r}_{ }}$$"
      ],
      "text/plain": [
       "<IPython.core.display.Math object>"
      ]
     },
     "metadata": {},
     "output_type": "display_data"
    }
   ],
   "source": [
    "#s = r*P.i + h*P.k\n",
    "display(Math(latex('\\overrightarrow{\\mathbf{s}}(t) = ') + latex(sym.simplify(express(s,P)))))"
   ]
  },
  {
   "cell_type": "markdown",
   "metadata": {
    "collapsed": true
   },
   "source": [
    "** b. [0,5]Encontre a expressão do vetor velocidade na base em coordenadas polares.**"
   ]
  },
  {
   "cell_type": "code",
   "execution_count": 37,
   "metadata": {},
   "outputs": [
    {
     "data": {
      "text/latex": [
       "$$\\overrightarrow{\\mathbf{v}}(t) = (- \\frac{16}{t^{3}})\\mathbf{\\hat{e_r}_{ }} + (\\frac{4}{t})\\mathbf{\\hat{e_{theta}}_{ }}$$"
      ],
      "text/plain": [
       "<IPython.core.display.Math object>"
      ]
     },
     "metadata": {},
     "output_type": "display_data"
    }
   ],
   "source": [
    "v = sym.diff(s,t)\n",
    "display(Math(latex('\\overrightarrow{\\mathbf{v}}(t) = ') + latex(sym.simplify(express(v,P)))))"
   ]
  },
  {
   "cell_type": "markdown",
   "metadata": {
    "collapsed": true
   },
   "source": [
    "** c.[0,5] Encontre a expressão do vetor aceleração na base em coordenadas polares.**"
   ]
  },
  {
   "cell_type": "code",
   "execution_count": 38,
   "metadata": {},
   "outputs": [
    {
     "data": {
      "text/latex": [
       "$$\\overrightarrow{\\mathbf{a}}(t) = (-2 + \\frac{48}{t^{4}})\\mathbf{\\hat{e_r}_{ }} + (- \\frac{12}{t^{2}})\\mathbf{\\hat{e_{theta}}_{ }}$$"
      ],
      "text/plain": [
       "<IPython.core.display.Math object>"
      ]
     },
     "metadata": {},
     "output_type": "display_data"
    }
   ],
   "source": [
    "a = sym.diff(v)\n",
    "display(Math(latex('\\overrightarrow{\\mathbf{a}}(t) = ') + latex(sym.simplify(express(a,P)))))"
   ]
  },
  {
   "cell_type": "markdown",
   "metadata": {},
   "source": [
    "** d. [0,5]Esboce a trajetória seguida pela mão. Esboce, em qualquer ponto da trajetória, os vetores que formam a base em coordenadas polares. **"
   ]
  },
  {
   "cell_type": "code",
   "execution_count": 39,
   "metadata": {},
   "outputs": [
    {
     "data": {
      "image/png": "[encoded data removed]",
      "text/plain": [
       "<matplotlib.figure.Figure at 0x7f4e432eb240>"
      ]
     },
     "metadata": {},
     "output_type": "display_data"
    },
    {
     "data": {
      "text/plain": [
       "<sympy.plotting.plot.Plot at 0x7f4e432ebf98>"
      ]
     },
     "execution_count": 39,
     "metadata": {},
     "output_type": "execute_result"
    }
   ],
   "source": [
    "plot_parametric(s.dot(O.i), s.dot(O.j),(t,3,10))"
   ]
  },
  {
   "cell_type": "markdown",
   "metadata": {},
   "source": [
    "### Questão 3 [3 pontos]"
   ]
  },
  {
   "cell_type": "markdown",
   "metadata": {},
   "source": [
    "Considere as seguintes posições de marcas colocadas sobre uma coxa mensuradas por um sistema de captura do movimento: epicôndilo lateral (el = [2.92, 10.10, 18.85]) e epicôndilo medial (em = [2.71, 10.22, 26.52]). Além disso, foi estimada a posição da cabeça do trocanter deste fêmur (tr = [5.05, 41.90, 15.41]). Estas posições estão na ordem x, y, z e são descritas no sistema de coordenadas do laboratório onde x aponta para a frente do sujeito, y aponta para cima e z aponta para o lado. O centro articular do joelho está localizado no centro geométrico entre as marcas el e em o centro articular do quadril coincide com a cabeça do trocanter. Um sistema de coordenadas anatômico para a coxa pode ser definido como um eixo quase vertical apontando para cima e passando pelos centros articulares do joelho e do quadril; outro eixo quase anteroposterior apontando para frente como o produto vetorial do eixo quase vertical e um vetor na direção médio-lateral passando por el e em; e o último eixo como o produto vetorial dos dois eixos anteriores, e a origem no centro articular do joelho.  \n",
    " a. Calcule o sistema de coordenadas anatômico para a coxa como descrito acima.  \n",
    " b. Demonstre que a base deste sistema de coordenadas é ortonormal.  \n"
   ]
  },
  {
   "cell_type": "markdown",
   "metadata": {},
   "source": [
    "**a. [1,5] Calcule o sistema de coordenadas anatômico para a coxa como descrito acima:**"
   ]
  },
  {
   "cell_type": "code",
   "execution_count": 40,
   "metadata": {},
   "outputs": [
    {
     "name": "stdout",
     "output_type": "stream",
     "text": [
      "Origem: \n",
      "O = [  2.815  10.16   22.685]\n",
      "Versores: \n",
      "e1 = [ 0.06847494  0.97243612 -0.22288824] \n",
      "e2 = [ 0.99756392 -0.06375548  0.02831018] \n",
      "e3 = [-0.0133195   0.22428381  0.97443284]\n"
     ]
    }
   ],
   "source": [
    "el = np.array([2.92, 10.10, 18.85])\n",
    "em = np.array([2.71, 10.22, 26.52])\n",
    "tr = np.array([5.05, 41.90, 15.41])\n",
    "\n",
    "quadri = tr\n",
    "joelho = (el + em)/2\n",
    "\n",
    "v1 = quadri - joelho        # first axis\n",
    "v2 = np.cross(v1, em - el)  # second axis\n",
    "v3 = np.cross(v2, v1)       # third axis\n",
    "\n",
    "# Vector normalization\n",
    "e1 = v1/np.linalg.norm(v1)\n",
    "e2 = v2/np.linalg.norm(v2)\n",
    "e3 = v3/np.linalg.norm(v3)\n",
    "\n",
    "print('Origem:', '\\nO =', joelho)\n",
    "print('Versores:', '\\ne1 =', e1, '\\ne2 =', e2, '\\ne3 =', e3)"
   ]
  },
  {
   "cell_type": "markdown",
   "metadata": {},
   "source": [
    "**b. [1,5]Demonstre que a base deste sistema de coordenadas é ortonormal:**"
   ]
  },
  {
   "cell_type": "code",
   "execution_count": 41,
   "metadata": {},
   "outputs": [
    {
     "name": "stdout",
     "output_type": "stream",
     "text": [
      "\n",
      "Test of orthogonality (cross product between versors): \n",
      "e1 x e2: 1.0 \n",
      "e1 x e3: 1.0 \n",
      "e2 x e3: 1.0\n",
      "\n",
      "Norm of each versor: \n",
      "||e1|| = 1.0 \n",
      "||e2|| = 1.0 \n",
      "||e3|| = 1.0\n"
     ]
    }
   ],
   "source": [
    "print('\\nTest of orthogonality (cross product between versors):',\n",
    "      '\\ne1 x e2:', np.linalg.norm(np.cross(e1, e2)),\n",
    "      '\\ne1 x e3:', np.linalg.norm(np.cross(e1, e3)),\n",
    "      '\\ne2 x e3:', np.linalg.norm(np.cross(e2, e3)))\n",
    "print('\\nNorm of each versor:',\n",
    "      '\\n||e1|| =', np.linalg.norm(e1),\n",
    "      '\\n||e2|| =', np.linalg.norm(e2),\n",
    "      '\\n||e3|| =', np.linalg.norm(e3))"
   ]
  },
  {
   "cell_type": "markdown",
   "metadata": {},
   "source": [
    "### Questão 4 [2 pontos]"
   ]
  },
  {
   "cell_type": "markdown",
   "metadata": {},
   "source": [
    "Na tabela abaixo estãos gravadas as coordenadas do centro de massa durante os saltos em distância de três saltadores. Nesta tabela, a primeira coluna é o número de identificação do saltador, a segunda coluna é o instante em segundos, a terceira é a coordenada X (paralela ao solo) em metros e a quarta coluna é a coordenada Y (ortogonal ao solo) em metros. Considerando isso, pede-se para escrever um pseudocódigo de um programa de computador que execute as seguintes tarefas:\n",
    "\n",
    "\t\n",
    "a) Dada uma matriz com os valores da tabela, monte uma matriz que contenha as coordenadas X do saltador 3 em uma coluna e as coordenadas Y do mesmo saltador em outra coluna. Além disso, monte um vetor com os instantes correspondentes a cada coordenada.\n",
    "\n",
    "b) Dada a matriz com as coordenadas X e Y, e o vetor de tempo obtidos no item anterior, obtenha o vetor velocidade do saltador 3 em cada instante.\n",
    "\t\n",
    "c) Tendo disponíveis as matrizes formadas nos itens anteriores, encontre uma base cuja origem seja a posição do saltador 3 e um dos seus vetores seja tangente à trajetória realizada pelo saltador."
   ]
  },
  {
   "cell_type": "code",
   "execution_count": 42,
   "metadata": {},
   "outputs": [
    {
     "data": {
      "text/plain": [
       "array([[ 1.        ,  0.        ,  0.        ,  0.        ],\n",
       "       [ 2.        ,  0.        ,  0.        ,  0.        ],\n",
       "       [ 3.        ,  0.        ,  0.        ,  0.        ],\n",
       "       [ 1.        ,  0.03421053,  0.34210526,  0.11057517],\n",
       "       [ 2.        ,  0.03421053,  0.37631579,  0.11399623],\n",
       "       [ 3.        ,  0.03421053,  0.30789474,  0.09689096],\n",
       "       [ 1.        ,  0.06842105,  0.68421053,  0.20966911],\n",
       "       [ 2.        ,  0.06842105,  0.75263158,  0.21651122],\n",
       "       [ 3.        ,  0.06842105,  0.61578947,  0.18230069],\n",
       "       [ 1.        ,  0.10263158,  1.02631579,  0.29728182],\n",
       "       [ 2.        ,  0.10263158,  1.12894737,  0.30754498],\n",
       "       [ 3.        ,  0.10263158,  0.92368421,  0.25622919],\n",
       "       [ 1.        ,  0.13684211,  1.36842105,  0.3734133 ],\n",
       "       [ 2.        ,  0.13684211,  1.50526316,  0.38709751],\n",
       "       [ 3.        ,  0.13684211,  1.23157895,  0.31867645],\n",
       "       [ 1.        ,  0.17105263,  1.71052632,  0.43806354],\n",
       "       [ 2.        ,  0.17105263,  1.88157895,  0.4551688 ],\n",
       "       [ 3.        ,  0.17105263,  1.53947368,  0.36964249],\n",
       "       [ 1.        ,  0.20526316,  2.05263158,  0.49123255],\n",
       "       [ 2.        ,  0.20526316,  2.25789474,  0.51175886],\n",
       "       [ 3.        ,  0.20526316,  1.84736842,  0.40912729],\n",
       "       [ 1.        ,  0.23947368,  2.39473684,  0.53292033],\n",
       "       [ 2.        ,  0.23947368,  2.63421053,  0.55686769],\n",
       "       [ 3.        ,  0.23947368,  2.15526316,  0.43713085],\n",
       "       [ 1.        ,  0.27368421,  2.73684211,  0.56312687],\n",
       "       [ 2.        ,  0.27368421,  3.01052632,  0.59049529],\n",
       "       [ 3.        ,  0.27368421,  2.46315789,  0.45365319],\n",
       "       [ 1.        ,  0.30789474,  3.07894737,  0.58185218],\n",
       "       [ 2.        ,  0.30789474,  3.38684211,  0.61264166],\n",
       "       [ 3.        ,  0.30789474,  2.77105263,  0.45869429],\n",
       "       [ 1.        ,  0.34210526,  3.42105263,  0.58909626],\n",
       "       [ 2.        ,  0.34210526,  3.76315789,  0.62330679],\n",
       "       [ 3.        ,  0.34210526,  3.07894737,  0.45225416],\n",
       "       [ 1.        ,  0.37631579,  3.76315789,  0.58485911],\n",
       "       [ 2.        ,  0.37631579,  4.13947368,  0.62249069],\n",
       "       [ 3.        ,  0.37631579,  3.38684211,  0.43433279],\n",
       "       [ 1.        ,  0.41052632,  4.10526316,  0.56914072],\n",
       "       [ 2.        ,  0.41052632,  4.51578947,  0.61019335],\n",
       "       [ 3.        ,  0.41052632,  3.69473684,  0.40493019],\n",
       "       [ 1.        ,  0.44473684,  4.44736842,  0.5419411 ],\n",
       "       [ 2.        ,  0.44473684,  4.89210526,  0.58641479],\n",
       "       [ 3.        ,  0.44473684,  4.00263158,  0.36404636],\n",
       "       [ 1.        ,  0.47894737,  4.78947368,  0.50326025],\n",
       "       [ 2.        ,  0.47894737,  5.26842105,  0.55115499],\n",
       "       [ 3.        ,  0.47894737,  4.31052632,  0.3116813 ],\n",
       "       [ 1.        ,  0.51315789,  5.13157895,  0.45309816],\n",
       "       [ 2.        ,  0.51315789,  5.64473684,  0.50441395],\n",
       "       [ 3.        ,  0.51315789,  4.61842105,  0.24783501],\n",
       "       [ 1.        ,  0.54736842,  5.47368421,  0.39145485],\n",
       "       [ 2.        ,  0.54736842,  6.02105263,  0.44619169],\n",
       "       [ 3.        ,  0.54736842,  4.92631579,  0.17250748],\n",
       "       [ 1.        ,  0.58157895,  5.81578947,  0.3183303 ],\n",
       "       [ 2.        ,  0.58157895,  6.39736842,  0.37648819],\n",
       "       [ 3.        ,  0.58157895,  5.23421053,  0.08569872],\n",
       "       [ 1.        ,  0.61578947,  6.15789474,  0.23372452],\n",
       "       [ 2.        ,  0.61578947,  6.77368421,  0.29530346],\n",
       "       [ 3.        ,  0.61578947,  5.54210526, -0.01259127],\n",
       "       [ 1.        ,  0.65      ,  6.5       ,  0.1376375 ],\n",
       "       [ 2.        ,  0.65      ,  7.15      ,  0.2026375 ],\n",
       "       [ 3.        ,  0.65      ,  5.85      , -0.1223625 ]])"
      ]
     },
     "execution_count": 42,
     "metadata": {},
     "output_type": "execute_result"
    }
   ],
   "source": [
    "t = np.linspace(0,0.65,20)\n",
    "r1 = np.transpose(np.array([10*t,-9.81/2*t**2+3.4*t]))\n",
    "r2 = np.transpose(np.array([11*t,-9.81/2*t**2+3.5*t]))\n",
    "r3 = np.transpose(np.array([9*t,-9.81/2*t**2+3*t]))\n",
    "r = np.zeros((3*len(t),4))\n",
    "for i in range(len(t)):\n",
    "    r[3*(i):3*(i+1),:] = np.hstack((np.array([[1],[2],[3]]), np.array([[t[i]],[t[i]],[t[i]]]), np.vstack((r1[i,:],r2[i,:],r3[i,:]))))\n",
    "r"
   ]
  },
  {
   "cell_type": "markdown",
   "metadata": {},
   "source": [
    "** a.[0,5]Dada uma matriz com os valores da tabela, monte uma matriz que contenha as coordenadas X do saltador 2 em uma coluna e as coordenadas Y do mesmo saltador em outra coluna. Além disso, monte um vetor com os instantes correspondentes a cada coordenada.**"
   ]
  },
  {
   "cell_type": "code",
   "execution_count": 43,
   "metadata": {},
   "outputs": [
    {
     "name": "stdout",
     "output_type": "stream",
     "text": [
      "P = [[ 0.          0.        ]\n",
      " [ 0.30789474  0.09689096]\n",
      " [ 0.61578947  0.18230069]\n",
      " [ 0.92368421  0.25622919]\n",
      " [ 1.23157895  0.31867645]\n",
      " [ 1.53947368  0.36964249]\n",
      " [ 1.84736842  0.40912729]\n",
      " [ 2.15526316  0.43713085]\n",
      " [ 2.46315789  0.45365319]\n",
      " [ 2.77105263  0.45869429]\n",
      " [ 3.07894737  0.45225416]\n",
      " [ 3.38684211  0.43433279]\n",
      " [ 3.69473684  0.40493019]\n",
      " [ 4.00263158  0.36404636]\n",
      " [ 4.31052632  0.3116813 ]\n",
      " [ 4.61842105  0.24783501]\n",
      " [ 4.92631579  0.17250748]\n",
      " [ 5.23421053  0.08569872]\n",
      " [ 5.54210526 -0.01259127]\n",
      " [ 5.85       -0.1223625 ]]\n",
      "t = [[ 0.        ]\n",
      " [ 0.03421053]\n",
      " [ 0.06842105]\n",
      " [ 0.10263158]\n",
      " [ 0.13684211]\n",
      " [ 0.17105263]\n",
      " [ 0.20526316]\n",
      " [ 0.23947368]\n",
      " [ 0.27368421]\n",
      " [ 0.30789474]\n",
      " [ 0.34210526]\n",
      " [ 0.37631579]\n",
      " [ 0.41052632]\n",
      " [ 0.44473684]\n",
      " [ 0.47894737]\n",
      " [ 0.51315789]\n",
      " [ 0.54736842]\n",
      " [ 0.58157895]\n",
      " [ 0.61578947]\n",
      " [ 0.65      ]]\n"
     ]
    }
   ],
   "source": [
    "P = np.zeros((int(np.size(r,0)/3),2))\n",
    "time = np.zeros((int(np.size(r,0)/3),1))\n",
    "k = 0\n",
    "for i in range(np.size(r,0)):\n",
    "    if r[i,0] == 3:\n",
    "        P[k,:] = np.array([r[i,2],r[i,3]])\n",
    "        time[k] = r[i,1] \n",
    "        k += 1\n",
    "print('P = ' + str(P))\n",
    "print('t = ' + str(time))"
   ]
  },
  {
   "cell_type": "markdown",
   "metadata": {},
   "source": [
    "** b. [0,5]Dada a matriz com as coordenadas X e Y, e o vetor de tempo obtidos no item anterior, obtenha o vetor velocidade do saltador 2 em cada instante. **"
   ]
  },
  {
   "cell_type": "code",
   "execution_count": 44,
   "metadata": {},
   "outputs": [
    {
     "name": "stdout",
     "output_type": "stream",
     "text": [
      "v=[[ 9.          2.83219737]\n",
      " [ 9.          2.49659211]\n",
      " [ 9.          2.16098684]\n",
      " [ 9.          1.82538158]\n",
      " [ 9.          1.48977632]\n",
      " [ 9.          1.15417105]\n",
      " [ 9.          0.81856579]\n",
      " [ 9.          0.48296053]\n",
      " [ 9.          0.14735526]\n",
      " [ 9.         -0.18825   ]\n",
      " [ 9.         -0.52385526]\n",
      " [ 9.         -0.85946053]\n",
      " [ 9.         -1.19506579]\n",
      " [ 9.         -1.53067105]\n",
      " [ 9.         -1.86627632]\n",
      " [ 9.         -2.20188158]\n",
      " [ 9.         -2.53748684]\n",
      " [ 9.         -2.87309211]\n",
      " [ 9.         -3.20869737]]\n"
     ]
    }
   ],
   "source": [
    "deltaT = time[1] - time[0]\n",
    "v = np.diff(P,1,0)/deltaT\n",
    "print('v=' + str(v))"
   ]
  },
  {
   "cell_type": "markdown",
   "metadata": {
    "collapsed": true
   },
   "source": [
    "** c.[1] Tendo disponíveis as matrizes formadas nos itens anteriores, encontre uma base cuja origem seja a posição do saltador 2 e um dos seus vetores seja tangente à trajetória realizada pelo saltador.**"
   ]
  },
  {
   "cell_type": "code",
   "execution_count": 45,
   "metadata": {},
   "outputs": [
    {
     "name": "stdout",
     "output_type": "stream",
     "text": [
      "e_t = [[ 0.95388373  0.30017633]\n",
      " [ 0.96361194  0.26730511]\n",
      " [ 0.9723631   0.23347376]\n",
      " [ 0.98004556  0.19877301]\n",
      " [ 0.98657506  0.16330846]\n",
      " [ 0.99187715  0.12719954]\n",
      " [ 0.99588937  0.09057789]\n",
      " [ 0.99856328  0.05358518]\n",
      " [ 0.99986599  0.01637061]\n",
      " [ 0.99978132 -0.02091209]\n",
      " [ 0.99831031 -0.05810779]\n",
      " [ 0.99547125 -0.09506314]\n",
      " [ 0.99129895 -0.13162972]\n",
      " [ 0.9858437  -0.16766693]\n",
      " [ 0.9791695  -0.20304454]\n",
      " [ 0.97135215 -0.23764471]\n",
      " [ 0.9624769  -0.27136361]\n",
      " [ 0.95263616 -0.30411238]\n",
      " [ 0.94192702 -0.33581764]]\n"
     ]
    }
   ],
   "source": [
    "vNorm = np.sqrt(v[:,0]**2+v[:,1]**2)\n",
    "et = np.transpose([v[:,0]/vNorm, v[:,1]/vNorm])\n",
    "print('e_t = ' + str(et))"
   ]
  },
  {
   "cell_type": "code",
   "execution_count": 46,
   "metadata": {
    "scrolled": true
   },
   "outputs": [
    {
     "name": "stdout",
     "output_type": "stream",
     "text": [
      "e_n = [[ 0.28378241 -0.9588887 ]\n",
      " [ 0.25042766 -0.96813531]\n",
      " [ 0.21615752 -0.9763585 ]\n",
      " [ 0.18107017 -0.98347018]\n",
      " [ 0.14527819 -0.98939085]\n",
      " [ 0.10890719 -0.99405192]\n",
      " [ 0.07209393 -0.99739785]\n",
      " [ 0.03498396 -0.99938787]\n",
      " [-0.00227113 -0.99999742]\n",
      " [-0.03951679 -0.99921891]\n",
      " [-0.07659862 -0.99706201]\n",
      " [-0.11336562 -0.99355334]\n",
      " [-0.14967318 -0.98873552]\n",
      " [-0.18538577 -0.98266582]\n",
      " [-0.22037929 -0.97541425]\n",
      " [-0.25454284 -0.9670615 ]\n",
      " [-0.28778006 -0.95769653]\n",
      " [-0.32000981 -0.94741423]]\n"
     ]
    }
   ],
   "source": [
    "det = (np.diff(et,1,0)/deltaT)\n",
    "C = np.transpose([det[:,0]/vNorm[0:-1], det[:,1]/vNorm[0:-1]])\n",
    "CNorm = np.sqrt(C[:,0]**2+C[:,1]**2)\n",
    "en = np.transpose([C[:,0]/CNorm, C[:,1]/CNorm])\n",
    "print('e_n = ' + str(en))"
   ]
  }
 ],
 "metadata": {
  "kernelspec": {
   "display_name": "Python 3",
   "language": "python",
   "name": "python3"
  },
  "language_info": {
   "codemirror_mode": {
    "name": "ipython",
    "version": 3
   },
   "file_extension": ".py",
   "mimetype": "text/x-python",
   "name": "python",
   "nbconvert_exporter": "python",
   "pygments_lexer": "ipython3",
   "version": "3.6.4"
  },
  "varInspector": {
   "cols": {
    "lenName": 16,
    "lenType": 16,
    "lenVar": 40
   },
   "kernels_config": {
    "python": {
     "delete_cmd_postfix": "",
     "delete_cmd_prefix": "del ",
     "library": "var_list.py",
     "varRefreshCmd": "print(var_dic_list())"
    },
    "r": {
     "delete_cmd_postfix": ") ",
     "delete_cmd_prefix": "rm(",
     "library": "var_list.r",
     "varRefreshCmd": "cat(var_dic_list()) "
    }
   },
   "types_to_exclude": [
    "module",
    "function",
    "builtin_function_or_method",
    "instance",
    "_Feature"
   ],
   "window_display": false
  }
 },
 "nbformat": 4,
 "nbformat_minor": 2
}
