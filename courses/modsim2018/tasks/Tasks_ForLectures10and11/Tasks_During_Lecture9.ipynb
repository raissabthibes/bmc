{
 "cells": [
  {
   "cell_type": "markdown",
   "metadata": {},
   "source": [
    "## Task of muscle Modeling"
   ]
  },
  {
   "cell_type": "code",
   "execution_count": 1,
   "metadata": {},
   "outputs": [],
   "source": [
    "import numpy as np\n",
    "import math\n",
    "import matplotlib.pyplot as plt\n",
    "%matplotlib notebook \n",
    "#inline"
   ]
  },
  {
   "cell_type": "code",
   "execution_count": null,
   "metadata": {},
   "outputs": [],
   "source": [
    "# Propriedades do vasto medial\n",
    "Umax = 0.04\n",
    "Lslack = 0.223\n",
    "Lce = 0.087\n",
    "Lceopt = 0.093\n",
    "width = 0.63 * Lceopt\n",
    "Fmax = 7400;\n",
    "a = 0.25 * Fmax\n",
    "b = 0.25*10 * Lceopt\n",
    "\n",
    "# Condições Iniciais\n",
    "phi = np.pi/2\n",
    "phid = 0\n",
    "#Lce = 0.31 - Lslack\n",
    "t0 = 0\n",
    "tend = 2.99\n",
    "h = 0.001"
   ]
  },
  {
   "cell_type": "code",
   "execution_count": null,
   "metadata": {},
   "outputs": [],
   "source": [
    "t = np.arange(t0,tend,h)\n",
    "\n",
    "Lce_2 = np.empty_like(t)\n",
    "Lce_2[0] = 0\n",
    "\n",
    "F = np.empty_like(t)\n",
    "F[0] = 0\n",
    "\n",
    "Fkpe = np.empty_like(t)\n",
    "Fkpe[0] = 0"
   ]
  },
  {
   "cell_type": "markdown",
   "metadata": {},
   "source": [
    "## Paralelo + Série"
   ]
  },
  {
   "cell_type": "code",
   "execution_count": null,
   "metadata": {},
   "outputs": [],
   "source": [
    "for i in range (1,len(t)):\n",
    "    if t[i]<=1:   Lm = 0.31\n",
    "    \n",
    "    if t[i]>1 and t[i]<2:   Lm = 0.31 - 0.04*(t[i]-1)\n",
    "    \n",
    "    Lsee = Lm - Lce\n",
    "    \n",
    "    if (Lsee < Lslack): F[i] = 0; \n",
    "    else: F[i] = Fmax * ((Lsee-Lslack)/(Umax*Lslack))**2;\n",
    "        \n",
    "    if (Lce < Lceopt): Fkpe[i] = 0; \n",
    "    else: Fkpe[i] = Fmax * ((Lce-Lceopt)/(Umax*Lceopt))**2;\n",
    "    \n",
    "    F0 = max([0, Fmax*(1-((Lce-Lceopt)/width)**2)])\n",
    "    \n",
    "    if F[i] > F0: pass#print('Error: can not do excentric contractions')\n",
    "        \n",
    "    Lcedt = -b*(F0-(F[i]-Fkpe[i])) / ((F[i]-Fkpe[i])+a)\n",
    "    \n",
    "    # Euler intergration Step\n",
    "    Lce = Lce + h * Lcedt\n",
    "    "
   ]
  },
  {
   "cell_type": "code",
   "execution_count": null,
   "metadata": {},
   "outputs": [],
   "source": [
    "plt.plot (t,F)\n",
    "plt.ylabel('Force [N]')\n",
    "plt.xlabel('time [s]')\n",
    "plt.show()"
   ]
  }
 ],
 "metadata": {
  "kernelspec": {
   "display_name": "Python 3",
   "language": "python",
   "name": "python3"
  },
  "language_info": {
   "codemirror_mode": {
    "name": "ipython",
    "version": 3
   },
   "file_extension": ".py",
   "mimetype": "text/x-python",
   "name": "python",
   "nbconvert_exporter": "python",
   "pygments_lexer": "ipython3",
   "version": "3.6.5"
  }
 },
 "nbformat": 4,
 "nbformat_minor": 2
}
