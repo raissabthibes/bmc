{
 "cells": [
  {
   "cell_type": "markdown",
   "metadata": {},
   "source": [
    "## Task of muscle Modeling"
   ]
  },
  {
   "cell_type": "code",
   "execution_count": 1,
   "metadata": {},
   "outputs": [],
   "source": [
    "import numpy as np\n",
    "import math\n",
    "import matplotlib.pyplot as plt\n",
    "%matplotlib notebook \n",
    "#inline"
   ]
  },
  {
   "cell_type": "markdown",
   "metadata": {},
   "source": [
    "# Nova Proposta\n",
    "## Normalizando a Força pela Força máxima"
   ]
  },
  {
   "cell_type": "markdown",
   "metadata": {},
   "source": [
    "# Propriedades do vasto medial\n",
    "Umax = 0.04\n",
    "Lslack = 0.223\n",
    "Lce = 0.087\n",
    "Lceopt = 0.093\n",
    "width = 0.63 * Lceopt\n",
    "Fmax = 7400;\n",
    "a = 0.25 # * Fmax\n",
    "b = 0.25*10 * Lceopt\n",
    "\n",
    "# Condições Iniciais\n",
    "phi = np.pi/2\n",
    "phid = 0\n",
    "#Lce = 0.31 - Lslack\n",
    "t0 = 0\n",
    "tend = 2.99\n",
    "h = 0.001"
   ]
  },
  {
   "cell_type": "markdown",
   "metadata": {},
   "source": [
    "t = np.arange(t0,tend,h)\n",
    "\n",
    "Lce_2 = np.empty_like(t)\n",
    "Lce_2[0] = 0\n",
    "\n",
    "F = np.empty_like(t)\n",
    "F[0] = 0\n",
    "\n",
    "Fkpe = np.empty_like(t)\n",
    "Fkpe[0] = 0"
   ]
  },
  {
   "cell_type": "markdown",
   "metadata": {},
   "source": [
    "Tenho de tirar o Fmax"
   ]
  },
  {
   "cell_type": "markdown",
   "metadata": {},
   "source": [
    "for i in range (1,len(t)):\n",
    "    if t[i]<=1:   Lm = 0.31\n",
    "    \n",
    "    if t[i]>1 and t[i]<2:   Lm = 0.31 - 0.04*(t[i]-1)\n",
    "    \n",
    "    Lsee = Lm - Lce\n",
    "    \n",
    "    if (Lsee < Lslack):\n",
    "        FTendonNorm = 0; \n",
    "    else:\n",
    "        FTendonNorm = ((Lsee-Lslack)/(Umax*Lslack))**2;\n",
    "        \n",
    "    if (Lce < Lceopt):\n",
    "        FkpeNorm = 0; \n",
    "    else:\n",
    "        FkpeNorm = ((Lce-Lceopt)/(Umax*Lceopt))**2;\n",
    "    \n",
    "    F0 = max([0, (1-((Lce-Lceopt)/width)**2)])\n",
    "    \n",
    "    if FTendonNorm > F0: pass#print('Error: can not do excentric contractions')\n",
    "        \n",
    "    Lcedt = -b*(F0-(FTendonNorm-FkpeNorm)) / ((FTendonNorm-FkpeNorm)+a)\n",
    "    \n",
    "    # Euler intergration Step\n",
    "    Lce = Lce + h * Lcedt\n",
    "    \n",
    "    F[i] = FTendonNorm\n",
    "    Lce_2[i] = Lce"
   ]
  },
  {
   "cell_type": "markdown",
   "metadata": {},
   "source": [
    "plt.plot (t,F)\n",
    "plt.ylabel('Force [N]')\n",
    "plt.xlabel('time [s]')\n",
    "plt.show()"
   ]
  },
  {
   "cell_type": "markdown",
   "metadata": {},
   "source": [
    "F = F * Fmax"
   ]
  },
  {
   "cell_type": "markdown",
   "metadata": {},
   "source": [
    "plt.plot (t,F)\n",
    "plt.ylabel('Force [N]')\n",
    "plt.xlabel('time [s]')\n",
    "plt.show()"
   ]
  },
  {
   "cell_type": "markdown",
   "metadata": {},
   "source": [
    "# Nova Proposta 3\n",
    "### Normalizando a Força pela Força máxima\n",
    "### E pelo comprimento ótimo do elemento contrátil --> (Lceopt)\n",
    "Vou tirar dividir tudo o que tem Fmax por Fmax e tudo o que tem Lceopt por Lceopt"
   ]
  },
  {
   "cell_type": "code",
   "execution_count": 2,
   "metadata": {},
   "outputs": [
    {
     "data": {
      "image/png": "[encoded data removed]",
      "text/plain": [
       "<Figure size 432x288 with 1 Axes>"
      ]
     },
     "metadata": {},
     "output_type": "display_data"
    }
   ],
   "source": [
    "# Propriedades do vasto medial\n",
    "Umax = 0.04\n",
    "Lslack = 0.223 \n",
    "Lceopt = 0.093\n",
    "LceNorm = 0.087 / Lceopt\n",
    "width = 0.63 \n",
    "Fmax = 7400;\n",
    "a = 0.25 # * Fmax\n",
    "b = 0.25*10\n",
    "\n",
    "# Condições Iniciais\n",
    "phi = np.pi/2\n",
    "phid = 0\n",
    "#Lce = 0.31 - Lslack\n",
    "t0 = 0\n",
    "tend = 2.99\n",
    "h = 0.001\n",
    "\n",
    "\n",
    "# Inicializar\n",
    "t = np.arange(t0,tend,h)\n",
    "\n",
    "Lce_2 = np.empty_like(t);  Lce_2[0] = 0\n",
    "\n",
    "F = np.empty_like(t);  F[0] = 0\n",
    "\n",
    "Fkpe = np.empty_like(t);  Fkpe[0] = 0\n",
    "\n",
    "fiberLength = np.empty_like(t);  fiberLength[0] = 0\n",
    "    \n",
    "tendonLength = np.empty_like(t);  tendonLength[0] = 0\n",
    "\n",
    "\n",
    "# Integração por Euler\n",
    "for i in range (1,len(t)):\n",
    "    if t[i]<=1:   Lm = 0.31\n",
    "    \n",
    "    if t[i]>1 and t[i]<2:   Lm = 0.31 - 0.04*(t[i]-1)\n",
    "    \n",
    "    LseeNorm = Lm/Lceopt - LceNorm\n",
    "    \n",
    "    if (LseeNorm < Lslack/Lceopt):\n",
    "        FTendonNorm = 0; \n",
    "    else:\n",
    "        FTendonNorm = ((LseeNorm-Lslack/Lceopt)/(Umax*Lslack/Lceopt))**2;\n",
    "        \n",
    "    if (LceNorm < 1):\n",
    "        FkpeNorm = 0; \n",
    "    else:\n",
    "        FkpeNorm = ((LceNorm-1)/(Umax))**2;\n",
    "    \n",
    "    F0 = max([0, (1-((LceNorm-1)/width)**2)])\n",
    "    \n",
    "    if FTendonNorm > F0: pass  #print('Error: can not do excentric contractions')\n",
    "        \n",
    "    LceNormdt = -b*(F0-(FTendonNorm-FkpeNorm)) / ((FTendonNorm-FkpeNorm)+a)\n",
    "    \n",
    "    # Euler intergration Step\n",
    "    LceNorm = LceNorm + h * LceNormdt\n",
    "    \n",
    "    F[i] = FTendonNorm #* Fmax\n",
    "    \n",
    "    fiberLength[i] = LceNorm * Lceopt\n",
    "    \n",
    "    tendonLength[i] = LseeNorm * Lceopt\n",
    "    \n",
    "FiberTendon = fiberLength + tendonLength\n",
    "\n",
    "     \n",
    "# Plot\n",
    "\n",
    "plt.plot (t,F)\n",
    "plt.ylabel('Force [N]')\n",
    "plt.xlabel('time [s]')\n",
    "plt.show()"
   ]
  },
  {
   "cell_type": "code",
   "execution_count": 3,
   "metadata": {},
   "outputs": [
    {
     "data": {
      "text/plain": [
       "Text(0,0.5,'Length [mm]')"
      ]
     },
     "execution_count": 3,
     "metadata": {},
     "output_type": "execute_result"
    },
    {
     "data": {
      "image/png": "[encoded data removed]",
      "text/plain": [
       "<Figure size 432x432 with 1 Axes>"
      ]
     },
     "metadata": {},
     "output_type": "display_data"
    }
   ],
   "source": [
    "fig, ax = plt.subplots(1,3,figsize=(6,6), sharex=True)\n",
    "\n",
    "ax[0].plot(t, fiberLength, label = 'Fiber')\n",
    "ax[0].plot(t, tendonLength, label = 'Tendon')\n",
    "ax[0].grid()\n",
    "plt.legend(loc = 'best')\n",
    "plt.xlabel('Time [s]')\n",
    "plt.ylabel('Length [mm]')\n",
    "\n",
    "\n"
   ]
  },
  {
   "cell_type": "code",
   "execution_count": null,
   "metadata": {},
   "outputs": [],
   "source": []
  },
  {
   "cell_type": "code",
   "execution_count": null,
   "metadata": {},
   "outputs": [],
   "source": [
    "def comuteTendonForce(LseeNorm, Lslack, Lceopt):\n",
    "    '''\n",
    "    Compute Tendon Force\n",
    "    \n",
    "    Inputs:\n",
    "        LseeNorm - Normalized Tendon Length\n",
    "    \n",
    "        Lslack - slack length of the tendon (non-normalized)\n",
    "    \n",
    "        Lceopt - Optimal length of the fiber\n",
    "    \n",
    "    Outputs:\n",
    "        FTendonNorm - Normalized force of Tendon\n",
    "            \n",
    "    '''\n",
    "    Umax=0.04\n",
    "    \n",
    "    if (LseeNorm < Lslack/Lceopt):\n",
    "        FTendonNorm = 0; \n",
    "    else:\n",
    "        FTendonNorm = ((LseeNorm-Lslack/Lceopt)/(Umax*Lslack/Lceopt))**2;\n",
    "    \n",
    "    return\n"
   ]
  },
  {
   "cell_type": "code",
   "execution_count": null,
   "metadata": {},
   "outputs": [],
   "source": [
    "def comuteParallelElementForce(LceNorm):\n",
    "    '''\n",
    "    Compute Parallel Element Force\n",
    "    \n",
    "    Input:\n",
    "        LceNorm - Normalized contratile element Length\n",
    "    \n",
    "    Output:\n",
    "        FTendonNorm - Normalized force of Tendon\n",
    "            \n",
    "    '''\n",
    "    Umax=1\n",
    "    \n",
    "    if LceNorm < 1:\n",
    "        FkpeNorm = 0; \n",
    "    else:\n",
    "        FkpeNorm = ((LceNorm-1)/(Umax))**2;\n",
    "    \n",
    "    return FkpeNorm\n"
   ]
  },
  {
   "cell_type": "code",
   "execution_count": null,
   "metadata": {},
   "outputs": [],
   "source": [
    "def computeForceLengthCurve(LceNorm):\n",
    "        '''\n",
    "    Compute Force Length Curve\n",
    "    \n",
    "    Input:\n",
    "        LceNorm - Normalized contratile element Length\n",
    "    \n",
    "    Output:\n",
    "        F0 - Normalized force of Tendon\n",
    "            \n",
    "    '''\n",
    "    \n",
    "    \n",
    "    width = 0.\n",
    "    F0 = max([0, (1-((LceNorm-1)/width)**2)])\n",
    "    \n",
    "    return F0\n"
   ]
  },
  {
   "cell_type": "code",
   "execution_count": null,
   "metadata": {},
   "outputs": [],
   "source": [
    "def computeContractileElementDerivative(F0, FCE):\n",
    "        '''\n",
    "    Compute Force Length Curve\n",
    "    \n",
    "    Input:\n",
    "        LceNorm - Normalized contratile element Length\n",
    "    \n",
    "    Output:\n",
    "        F0 - Normalized force of Tendon\n",
    "            \n",
    "    '''\n",
    "    a = 0.25\n",
    "    b = 0.25 * 10\n",
    "    \n",
    "    if FCE > F0:\n",
    "        print('Error: can not do excentric contractions')\n",
    "        LceNormdt = -b*(F0-FCE) / (FCE+a)\n",
    "        \n",
    "    return LceNormdt\n"
   ]
  },
  {
   "cell_type": "code",
   "execution_count": null,
   "metadata": {},
   "outputs": [],
   "source": []
  },
  {
   "cell_type": "code",
   "execution_count": null,
   "metadata": {},
   "outputs": [],
   "source": [
    "# Propriedades do vasto medial\n",
    "Umax = 0.04\n",
    "Lslack = 0.223 \n",
    "Lceopt = 0.093\n",
    "LceNorm = 0.087 / Lceopt\n",
    "width = 0.63 \n",
    "Fmax = 7400;\n",
    "a = 0.25 # * Fmax\n",
    "b = 0.25*10\n",
    "\n",
    "# Condições Iniciais\n",
    "phi = np.pi/2\n",
    "phid = 0\n",
    "#Lce = 0.31 - Lslack\n",
    "t0 = 0\n",
    "tend = 2.99\n",
    "h = 0.001\n",
    "\n",
    "\n",
    "# Inicializar\n",
    "t = np.arange(t0,tend,h)\n",
    "\n",
    "Lce_2 = np.empty_like(t);  Lce_2[0] = 0\n",
    "\n",
    "F = np.empty_like(t);  F[0] = 0\n",
    "\n",
    "Fkpe = np.empty_like(t);  Fkpe[0] = 0\n",
    "\n",
    "fiberLength = np.empty_like(t);  fiberLength[0] = 0\n",
    "    \n",
    "tendonLength = np.empty_like(t);  tendonLength[0] = 0\n",
    "\n",
    "\n",
    "# Integração por Euler\n",
    "for i in range (1,len(t)):\n",
    "    if t[i]<=1:   Lm = 0.31\n",
    "    \n",
    "    if t[i]>1 and t[i]<2:   Lm = 0.31 - 0.04*(t[i]-1)\n",
    "    \n",
    "    LseeNorm = Lm/Lceopt - LceNorm\n",
    "    \n",
    "    if (LseeNorm < Lslack/Lceopt):\n",
    "        FTendonNorm = 0; \n",
    "    else:\n",
    "        FTendonNorm = ((LseeNorm-Lslack/Lceopt)/(Umax*Lslack/Lceopt))**2;\n",
    "        \n",
    "    if (LceNorm < 1):\n",
    "        FkpeNorm = 0; \n",
    "    else:\n",
    "        FkpeNorm = ((LceNorm-1)/(Umax))**2;\n",
    "    \n",
    "    F0 = max([0, (1-((LceNorm-1)/width)**2)])\n",
    "    \n",
    "    if FTendonNorm > F0: pass  #print('Error: can not do excentric contractions')\n",
    "        \n",
    "    LceNormdt = -b*(F0-(FTendonNorm-FkpeNorm)) / ((FTendonNorm-FkpeNorm)+a)\n",
    "    \n",
    "    # Euler intergration Step\n",
    "    LceNorm = LceNorm + h * LceNormdt\n",
    "    \n",
    "    F[i] = FTendonNorm #* Fmax\n",
    "    \n",
    "    fiberLength[i] = LceNorm * Lceopt\n",
    "    \n",
    "    tendonLength[i] = LseeNorm * Lceopt\n",
    "    \n",
    "FiberTendon = fiberLength + tendonLength\n",
    "\n",
    "     \n",
    "# Plot\n",
    "\n",
    "plt.plot (t,F)\n",
    "plt.ylabel('Force [N]')\n",
    "plt.xlabel('time [s]')\n",
    "plt.show()"
   ]
  }
 ],
 "metadata": {
  "kernelspec": {
   "display_name": "Python 3",
   "language": "python",
   "name": "python3"
  },
  "language_info": {
   "codemirror_mode": {
    "name": "ipython",
    "version": 3
   },
   "file_extension": ".py",
   "mimetype": "text/x-python",
   "name": "python",
   "nbconvert_exporter": "python",
   "pygments_lexer": "ipython3",
   "version": "3.6.5"
  }
 },
 "nbformat": 4,
 "nbformat_minor": 2
}
