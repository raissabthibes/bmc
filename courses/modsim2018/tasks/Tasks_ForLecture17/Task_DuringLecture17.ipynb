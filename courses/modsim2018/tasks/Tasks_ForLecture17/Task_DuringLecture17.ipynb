{
 "cells": [
  {
   "cell_type": "markdown",
   "metadata": {},
   "source": [
    "# Task 15 - Motor Control\n",
    "### Introduction to modeling and simulation of human movement\n",
    "https://github.com/BMClab/bmc/blob/master/courses/ModSim2018.md"
   ]
  },
  {
   "cell_type": "markdown",
   "metadata": {},
   "source": [
    "Implement a simulation of the ankle joint model using the parameters from Thelen (2003) and Elias (2014)"
   ]
  },
  {
   "cell_type": "code",
   "execution_count": 1,
   "metadata": {},
   "outputs": [],
   "source": [
    "import numpy as np\n",
    "import pandas as pd\n",
    "%matplotlib notebook\n",
    "import matplotlib.pyplot as plt\n",
    "import math\n",
    "from Muscle import Muscle"
   ]
  },
  {
   "cell_type": "code",
   "execution_count": 2,
   "metadata": {},
   "outputs": [],
   "source": [
    "Lslack = 2.4*0.09 # tendon slack length\n",
    "Lce_o  = 0.09 # optimal muscle fiber length\n",
    "Fmax   = 1400 #maximal isometric DF force\n",
    "alpha  = 7*math.pi/180 # DF muscle fiber pennation angle\n",
    "\n",
    "dt = 0.0001"
   ]
  },
  {
   "cell_type": "code",
   "execution_count": 3,
   "metadata": {},
   "outputs": [],
   "source": [
    "dorsiflexor = Muscle(Lce_o=Lce_o, Fmax=Fmax, Lslack=Lslack, alpha=alpha, dt = dt)\n",
    "soleus = Muscle(Lce_o=0.049, Fmax=8050, Lslack=0.289, alpha=25*np.pi/180, dt =  dt)"
   ]
  },
  {
   "cell_type": "code",
   "execution_count": 4,
   "metadata": {},
   "outputs": [
    {
     "data": {
      "text/plain": [
       "8050"
      ]
     },
     "execution_count": 4,
     "metadata": {},
     "output_type": "execute_result"
    }
   ],
   "source": [
    "soleus.Fmax"
   ]
  },
  {
   "cell_type": "markdown",
   "metadata": {},
   "source": [
    "### Muscle properties"
   ]
  },
  {
   "cell_type": "markdown",
   "metadata": {},
   "source": [
    "Parameters from Nigg & Herzog (2006)."
   ]
  },
  {
   "cell_type": "code",
   "execution_count": 5,
   "metadata": {},
   "outputs": [],
   "source": [
    "Umax  = 0.04 # SEE strain at Fmax\n",
    "width = 0.63 # Max relative length change of CE"
   ]
  },
  {
   "cell_type": "markdown",
   "metadata": {},
   "source": [
    "Activation dynamics parameters"
   ]
  },
  {
   "cell_type": "code",
   "execution_count": 6,
   "metadata": {},
   "outputs": [],
   "source": [
    "a = 1\n",
    "u = 1 #Initial conditional for Brain's activation\n",
    "#b = .25*10#*Lce_o "
   ]
  },
  {
   "cell_type": "markdown",
   "metadata": {},
   "source": [
    "## Subject's anthropometrics\n",
    "Parameters obtained experimentally or from Winter's book."
   ]
  },
  {
   "cell_type": "code",
   "execution_count": 7,
   "metadata": {},
   "outputs": [],
   "source": [
    "Mass      = 75 #total body mass (kg)\n",
    "Lseg   = 0.26 #segment length (m)\n",
    "m      = 1*Mass #foot mass (kg)\n",
    "g      = 9.81 #acceleration of gravity (m/s2)\n",
    "hcm    = 0.85 #distance from ankle joint to center of mass of the body(m)\n",
    "I      = 4/3*m*hcm**2#moment of inertia\n",
    "legAng = math.pi/2 #angle of the leg with horizontal (90 deg)"
   ]
  },
  {
   "cell_type": "code",
   "execution_count": 8,
   "metadata": {},
   "outputs": [],
   "source": [
    "As_TA = np.array([30.6, -7.44e-2, -1.41e-4, 2.42e-6, 1.5e-8]) / 100   # at [m] instead of [cm]\n",
    "# Coefs for moment arm for ankle angle\n",
    "Bs_TA = np.array([4.3, 1.66e-2, -3.89e-4, -4.45e-6, -4.34e-8]) / 100  # at [m] instead of [cm]\n",
    "As_SOL = np.array([32.3, 7.22e-2, -2.24e-4, -3.15e-6, 9.27e-9]) / 100   # at [m] instead of [cm]\n",
    "Bs_SOL = np.array([-4.1, 2.57e-2, 5.45e-4, -2.22e-6, -5.5e-9]) / 100   # at [m] instead of [cm]"
   ]
  },
  {
   "cell_type": "markdown",
   "metadata": {},
   "source": [
    "### Initial conditions"
   ]
  },
  {
   "cell_type": "code",
   "execution_count": 9,
   "metadata": {},
   "outputs": [],
   "source": [
    "phi = 5*np.pi/180\n",
    "phid = 0 #zero velocity\n",
    "Lm0  = 0.31 #initial total lenght of the muscle\n",
    "dorsiflexor.Lnorm_ce = 1 #norm\n",
    "soleus.Lnorm_ce = 1 #norm\n",
    "t0 = 0 #Initial time\n",
    "tf = 25 #Final Time"
   ]
  },
  {
   "cell_type": "code",
   "execution_count": 10,
   "metadata": {},
   "outputs": [],
   "source": [
    "\n",
    "t = np.arange(t0,tf,dt) # time array\n",
    "# preallocating\n",
    "F          = np.empty((t.shape[0],2))\n",
    "phivec     = np.empty(t.shape)\n",
    "Fkpe       = np.empty(t.shape)\n",
    "FiberLen   = np.empty(t.shape)\n",
    "TendonLen  = np.empty(t.shape)\n",
    "FiberLenSoleus    = np.empty(t.shape)\n",
    "TendonLenSoleus   = np.empty(t.shape)\n",
    "Dorsif_a_dynamics = np.empty(t.shape)\n",
    "Soleus_a_dynamics = np.empty(t.shape)\n",
    "a_dynamics = np.empty(t.shape)\n",
    "Moment     = np.empty(t.shape)"
   ]
  },
  {
   "cell_type": "markdown",
   "metadata": {},
   "source": [
    "## Simulation - Series"
   ]
  },
  {
   "cell_type": "code",
   "execution_count": 11,
   "metadata": {},
   "outputs": [],
   "source": [
    "def momentArmDF(phi):\n",
    "    '''\n",
    "    Calculate the tibialis anterior moment arm according to Elias et al (2014)\n",
    "    Input: \n",
    "    phi: Ankle joint angle in radians\n",
    "    Output:\n",
    "    Rarm: TA moment arm\n",
    "    '''\n",
    "    # Consider neutral ankle position as zero degrees\n",
    "    phi = phi*180/np.pi # converting to degrees\n",
    "    Rf = 4.3 + 1.66E-2*phi + -3.89E-4*phi**2 + -4.45E-6*phi**3 + -4.34E-8*phi**4\n",
    "    Rf = Rf/100 # converting to meters\n",
    "    return Rf"
   ]
  },
  {
   "cell_type": "code",
   "execution_count": 12,
   "metadata": {},
   "outputs": [],
   "source": [
    "def ComputeMomentJoint(Rf_TA, Fnorm_tendon_TA, Fmax_TA, Rf_SOL, Fnorm_tendon_SOL, Fmax_SOL, m, g, phi, hcm):\n",
    "    '''\n",
    "    Inputs:\n",
    "        RF = Moment arm\n",
    "        Fnorm_tendon = Normalized tendon force\n",
    "        m = Segment Mass\n",
    "        g = Acelleration of gravity\n",
    "        Fmax= maximal isometric force\n",
    "    Output:\n",
    "        M = Total moment with respect to joint\n",
    "    '''\n",
    "    M = (-0.65*m*g*hcm*phi + Rf_TA*Fnorm_tendon_TA*Fmax_TA + Rf_SOL*Fnorm_tendon_SOL*Fmax_SOL \n",
    "         + m*g*hcm*np.sin(phi))\n",
    "    return M"
   ]
  },
  {
   "cell_type": "code",
   "execution_count": 13,
   "metadata": {},
   "outputs": [],
   "source": [
    "def ComputeAngularAcelerationJoint(M, I):\n",
    "    '''\n",
    "    Inputs:\n",
    "        M = Total moment with respect to joint\n",
    "        I = Moment of Inertia\n",
    "    Output:\n",
    "        phidd= angular aceleration of the joint\n",
    "    '''\n",
    "    phidd = M/I\n",
    "    return phidd"
   ]
  },
  {
   "cell_type": "code",
   "execution_count": 14,
   "metadata": {},
   "outputs": [],
   "source": [
    "def computeMomentArmJoint(theta, Bs):\n",
    "    # theta - joint angle (degrees)\n",
    "    # Bs - coeficients for the polinomio\n",
    "\n",
    "    auxBmultp = np.empty(Bs.shape);\n",
    "    for i in range (len(Bs)):\n",
    "        auxBmultp[i] = Bs[i] * (theta**i)\n",
    "\n",
    "    Rf = sum(auxBmultp)\n",
    "\n",
    "    return Rf"
   ]
  },
  {
   "cell_type": "code",
   "execution_count": 15,
   "metadata": {},
   "outputs": [],
   "source": [
    "def ComputeTotalLenghtSize(theta, As):\n",
    "        # theta = joint angle(degrees)\n",
    "        # As - coeficients for the polinomio\n",
    "\n",
    "        auxAmultp = np.empty(As.shape);\n",
    "\n",
    "        for i in range (len(As)):\n",
    "            auxAmultp[i] = As[i] * (theta**i)\n",
    "\n",
    "        Lm = sum(auxAmultp)\n",
    "\n",
    "        return Lm"
   ]
  },
  {
   "cell_type": "code",
   "execution_count": null,
   "metadata": {},
   "outputs": [],
   "source": [
    "noise = 0.1*np.random.randn(len(t))/dt  # Algum ruído\n",
    "phiRef = 5*np.pi/180                  # Pretende-se um ângulo articular de 5°\n",
    "\n",
    "LceRefTA  = 0.087\n",
    "LceRefSOL = 0.037\n",
    "\n",
    "KpTA = 35  # Controle proporcional, compara o comprimento com a referência\n",
    "KdTA = 20   # Controle derivativo,   controla a velocidade \n",
    "KpSOL = 30  # Controle proporcional, compara o comprimento com a referência\n",
    "KdSOL = 20   # Controle derivativo,   controla a velocidade\n",
    "\n",
    "for i in range (len(t)):\n",
    "    Lm_TA = ComputeTotalLenghtSize(phi*180/np.pi, As_TA)\n",
    "    Rf_TA = computeMomentArmJoint(phi*180/np.pi, Bs_TA)\n",
    "    Lm_SOL = ComputeTotalLenghtSize(phi*180/np.pi, As_SOL)\n",
    "    Rf_SOL = computeMomentArmJoint(phi*180/np.pi, Bs_SOL)\n",
    "    ##############################################################\n",
    "    \n",
    "    # CONTROLES    # CONTROLES    # CONTROLES    # CONTROLES   # #\n",
    "    \n",
    "    # e = phiRef - phi  \n",
    "    \n",
    "    # For Soleus\n",
    "    LceSOL = soleus.Lnorm_ce*soleus.Lce_o\n",
    "    LenDot = soleus.Lnorm_cedot*soleus.Lce_o\n",
    "    e = LceRefSOL - LceSOL\n",
    "    if e > 0:            # se phi for menor que a referência, então\n",
    "        #u_TA = max(min(1, Kp*e - Kd*LenDot), 0.01))\n",
    "        u_SOL = 0.01\n",
    "    else:                # se phi for maior que a referência, então\n",
    "        #u_TA = 0.01\n",
    "        u_SOL = max(min(1, -(KpSOL*e - KdSOL*LenDot)), 0.01)   \n",
    "    \n",
    "    # For Dorsiflexor\n",
    "    LceTA = dorsiflexor.Lnorm_ce*dorsiflexor.Lce_o\n",
    "    LenDot = dorsiflexor.Lnorm_cedot*dorsiflexor.Lce_o\n",
    "    e = LceRefTA - LceTA\n",
    "    if e > 0:            # se phi for menor que a referência, então\n",
    "        u_TA = 0.01  # min(1, Kp*e - Kd*LenDot)\n",
    "        #u_SOL = 0.01\n",
    "    else:                # se phi for maior que a referência, então\n",
    "        u_TA = max(min(1, -(KpTA*e - KdTA*LenDot)),0.01)  # 0.01\n",
    "        #u_SOL = max(min(1, -(KpSOL*e - KdSOL*LenDot)),0.01)   \n",
    "    \n",
    "    ###################################################################\n",
    "    dorsiflexor.updateMuscle(Lm=Lm_TA, u=u_TA)\n",
    "    soleus.updateMuscle(Lm=Lm_SOL, u=u_SOL)\n",
    "    #####################################################################     \n",
    "    #Compute MomentJoint\n",
    "    M = ComputeMomentJoint(Rf_TA,dorsiflexor.Fnorm_tendon,\n",
    "                           dorsiflexor.Fmax,\n",
    "                           Rf_SOL, soleus.Fnorm_tendon,\n",
    "                           soleus.Fmax,\n",
    "                           m,g,phi, hcm) \n",
    "    #Compute Angular Aceleration Joint\n",
    "    \n",
    "    torqueWithNoise = M + noise[i]\n",
    "    phidd = ComputeAngularAcelerationJoint (torqueWithNoise,I)\n",
    "    # Euler integration steps\n",
    "    phid= phid + dt*phidd\n",
    "    phi  = phi  + dt*phid\n",
    "    phideg= (phi*180)/math.pi #convert joint angle from radians to degree\n",
    "    # Store variables in vectors\n",
    "    F[i,0] = dorsiflexor.Fnorm_tendon*dorsiflexor.Fmax\n",
    "    F[i,1] = soleus.Fnorm_tendon*soleus.Fmax\n",
    "    Fkpe[i] = dorsiflexor.Fnorm_kpe*dorsiflexor.Fmax\n",
    "    FiberLen[i] = dorsiflexor.Lnorm_ce*dorsiflexor.Lce_o\n",
    "    FiberLenSoleus[i] = soleus.Lnorm_ce*soleus.Lce_o\n",
    "    TendonLen[i] = dorsiflexor.Lnorm_see*dorsiflexor.Lce_o\n",
    "    TendonLenSoleus[i] = soleus.Lnorm_see*soleus.Lce_o\n",
    "    Dorsif_a_dynamics[i] = dorsiflexor.a\n",
    "    Soleus_a_dynamics[i] = soleus.a\n",
    "    phivec[i] = phideg\n",
    "    Moment[i] = M"
   ]
  },
  {
   "cell_type": "code",
   "execution_count": null,
   "metadata": {},
   "outputs": [],
   "source": [
    "np.mean(FiberLenSoleus)"
   ]
  },
  {
   "cell_type": "code",
   "execution_count": null,
   "metadata": {},
   "outputs": [],
   "source": [
    "np.mean(FiberLen)"
   ]
  },
  {
   "cell_type": "markdown",
   "metadata": {},
   "source": [
    "## Plots "
   ]
  },
  {
   "cell_type": "code",
   "execution_count": null,
   "metadata": {
    "scrolled": false
   },
   "outputs": [],
   "source": [
    "fig, ax = plt.subplots(1, 1, figsize=(6,4), sharex=True, sharey=True)\n",
    "ax.plot(t,Dorsif_a_dynamics, label = 'For Dorsiflexors')\n",
    "ax.plot(t,Soleus_a_dynamics, label = 'For Soleus')\n",
    "ax.set_xlabel('time (s)')\n",
    "ax.set_ylabel('Activation dynamics')\n",
    "ax.legend(loc='best')\n",
    "\n",
    "\n",
    "plt.show()"
   ]
  },
  {
   "cell_type": "code",
   "execution_count": null,
   "metadata": {},
   "outputs": [],
   "source": [
    "fig, ax = plt.subplots(1, 1, figsize=(6,4))\n",
    "\n",
    "ax.plot(t,phivec,c='red')\n",
    "plt.grid()\n",
    "plt.xlabel('time (s)')\n",
    "plt.ylabel('Joint angle (deg)')\n",
    "plt.show()"
   ]
  },
  {
   "cell_type": "code",
   "execution_count": null,
   "metadata": {
    "scrolled": false
   },
   "outputs": [],
   "source": [
    "fig, ax = plt.subplots(1, 1, figsize=(6,4))\n",
    "\n",
    "ax.plot(t, F[:,1], c='red', label = 'Soleus')\n",
    "plt.grid()\n",
    "plt.xlabel('time (s)')\n",
    "plt.ylabel('Soleus Force (N)')\n",
    "plt.show()\n",
    "\n",
    "fig, ax = plt.subplots(1, 1, figsize=(6,4))\n",
    "\n",
    "ax.plot(t, F[:,0], c='red', label = 'Dorsiflexors')\n",
    "plt.grid()\n",
    "plt.xlabel('time (s)')\n",
    "plt.ylabel('Dorsiflexors Force (N)')\n",
    "plt.show()"
   ]
  },
  {
   "cell_type": "code",
   "execution_count": null,
   "metadata": {},
   "outputs": [],
   "source": [
    "fig, ax = plt.subplots(1, 1, figsize=(6,4))\n",
    "\n",
    "ax.plot(t, Moment)\n",
    "plt.grid()\n",
    "plt.xlabel('time (s)')\n",
    "plt.ylabel('joint moment')\n",
    "plt.show()"
   ]
  },
  {
   "cell_type": "code",
   "execution_count": null,
   "metadata": {
    "scrolled": true
   },
   "outputs": [],
   "source": [
    "fig, ax = plt.subplots(1, 1, figsize=(6,4))\n",
    "\n",
    "ax.plot(t,FiberLen, label = 'fiber')\n",
    "ax.plot(t,TendonLen, label = 'tendon')\n",
    "plt.grid()\n",
    "plt.xlabel('time (s)')\n",
    "plt.ylabel('Length (m)')\n",
    "ax.legend(loc='best')\n",
    "\n",
    "\n",
    "fig, ax = plt.subplots(1, 3, figsize=(12,4), sharex=True, sharey=True)\n",
    "ax[0].plot(t,FiberLen, label = 'fiber')\n",
    "ax[1].plot(t,TendonLen, label = 'tendon')\n",
    "ax[2].plot(t,FiberLen + TendonLen, label = 'muscle (tendon + fiber)')\n",
    "\n",
    "ax[1].set_xlabel('time (s)')\n",
    "ax[0].set_ylabel('Length (m)')\n",
    "ax[0].legend(loc='best')\n",
    "ax[1].legend(loc='best')\n",
    "ax[2].legend(loc='best')\n",
    "plt.show()"
   ]
  },
  {
   "cell_type": "code",
   "execution_count": null,
   "metadata": {},
   "outputs": [],
   "source": [
    "fig, ax = plt.subplots(1, 3, figsize=(12,4), sharex=True, sharey=True)\n",
    "ax[0].plot(t,FiberLenSoleus, label = 'fiber')\n",
    "ax[1].plot(t,TendonLenSoleus, label = 'tendon')\n",
    "ax[2].plot(t,FiberLenSoleus + TendonLenSoleus, label = 'muscle (tendon + fiber)')\n",
    "\n",
    "ax[1].set_xlabel('time (s)')\n",
    "ax[0].set_ylabel('Length (m)')\n",
    "ax[0].legend(loc='best')\n",
    "ax[1].legend(loc='best')\n",
    "ax[2].legend(loc='best')\n",
    "plt.show()"
   ]
  }
 ],
 "metadata": {
  "kernelspec": {
   "display_name": "Python 3",
   "language": "python",
   "name": "python3"
  },
  "language_info": {
   "codemirror_mode": {
    "name": "ipython",
    "version": 3
   },
   "file_extension": ".py",
   "mimetype": "text/x-python",
   "name": "python",
   "nbconvert_exporter": "python",
   "pygments_lexer": "ipython3",
   "version": "3.6.5"
  },
  "latex_envs": {
   "LaTeX_envs_menu_present": true,
   "autoclose": false,
   "autocomplete": true,
   "bibliofile": "biblio.bib",
   "cite_by": "apalike",
   "current_citInitial": 1,
   "eqLabelWithNumbers": true,
   "eqNumInitial": 1,
   "hotkeys": {
    "equation": "Ctrl-E",
    "itemize": "Ctrl-I"
   },
   "labels_anchors": false,
   "latex_user_defs": false,
   "report_style_numbering": false,
   "user_envs_cfg": false
  },
  "nbTranslate": {
   "displayLangs": [
    "*"
   ],
   "hotkey": "alt-t",
   "langInMainMenu": true,
   "sourceLang": "en",
   "targetLang": "fr",
   "useGoogleTranslate": true
  },
  "varInspector": {
   "cols": {
    "lenName": 16,
    "lenType": 16,
    "lenVar": 40
   },
   "kernels_config": {
    "python": {
     "delete_cmd_postfix": "",
     "delete_cmd_prefix": "del ",
     "library": "var_list.py",
     "varRefreshCmd": "print(var_dic_list())"
    },
    "r": {
     "delete_cmd_postfix": ") ",
     "delete_cmd_prefix": "rm(",
     "library": "var_list.r",
     "varRefreshCmd": "cat(var_dic_list()) "
    }
   },
   "types_to_exclude": [
    "module",
    "function",
    "builtin_function_or_method",
    "instance",
    "_Feature"
   ],
   "window_display": false
  }
 },
 "nbformat": 4,
 "nbformat_minor": 2
}
